{
  "cells": [
    {
      "cell_type": "markdown",
      "metadata": {
        "id": "view-in-github",
        "colab_type": "text"
      },
      "source": [
        "<a href=\"https://colab.research.google.com/github/seq2193/so-vits-svc-colab/blob/main/sovits4_0_%26_V2_%E6%8E%A8%E7%90%86.ipynb\" target=\"_parent\"><img src=\"https://colab.research.google.com/assets/colab-badge.svg\" alt=\"Open In Colab\"/></a>"
      ]
    },
    {
      "cell_type": "markdown",
      "source": [
        "初始项目：https://github.com/innnky/so-vits-svc\n",
        "\n",
        "修改日期：2023年3月17日"
      ],
      "metadata": {
        "id": "J5kzGax2VJyt"
      }
    },
    {
      "cell_type": "code",
      "source": [
        "#@title 克隆的github仓库\n",
        "#@markdown ##选择要克隆的github仓库分支\n",
        "Clone = \"4.0\" #@param [\"4.0\",\"4.0-v2\"]\n",
        "if Clone == \"4.0\":\n",
        "  !git clone https://github.com/svc-develop-team/so-vits-svc -b 4.0\n",
        "elif Clone == \"4.0-v2\":\n",
        "  !git clone https://github.com/svc-develop-team/so-vits-svc -b 4.0-v2"
      ],
      "metadata": {
        "id": "aiJffGjtt_1o"
      },
      "execution_count": null,
      "outputs": []
    },
    {
      "cell_type": "code",
      "execution_count": null,
      "metadata": {
        "id": "yVMFHruLkzW2"
      },
      "outputs": [],
      "source": [
        "#@title 安装依赖\n",
        "%cd /content/so-vits-svc\n",
        "!pip install --upgrade pip setuptools numpy numba\n",
        "#!pip install numpy==1.23.5\n",
        "!pip install pyworld praat-parselmouth fairseq \n",
        "!pip install --upgrade gdown"
      ]
    },
    {
      "cell_type": "code",
      "execution_count": null,
      "metadata": {
        "id": "PpZn77ahk1nl"
      },
      "outputs": [],
      "source": [
        "#@title 下载必要模型文件\n",
        "# 源仓库地址：[contentvec](https://github.com/auspicious3000/contentvec)\n",
        "# 模型原下载链接：[checkpoint_best_legacy_500.pt](https://ibm.box.com/s/z1wgl1stco8ffooyatzdwsqn2psd9lrr)\n",
        "# 由于源网盘无法提供http直链，根据mit协议，对模型进行二次分发，提供下载直链\n",
        "#!wget -P hubert/ https://huggingface.co/innnky/contentvec/resolve/main/checkpoint_best_legacy_500.pt\n",
        "#!curl -L https://ibm.ent.box.com/shared/static/z1wgl1stco8ffooyatzdwsqn2psd9lrr -o /content/so-vits-svc/hubert/checkpoint_best_legacy_500.pt\n",
        "!wget -O hubert/checkpoint_best_legacy_500.pt https://ibm.ent.box.com/shared/static/z1wgl1stco8ffooyatzdwsqn2psd9lrr"
      ]
    },
    {
      "cell_type": "markdown",
      "metadata": {
        "id": "H11-OHlTlfzV"
      },
      "source": [
        "## 加载歌手模型"
      ]
    },
    {
      "cell_type": "code",
      "source": [
        "#@title 加载Google云端硬盘\n",
        "#@markdown 加载Google云端硬盘\n",
        "from google.colab import drive\n",
        "drive.mount('/content/drive')"
      ],
      "metadata": {
        "id": "OXrEWVwUooJa"
      },
      "execution_count": null,
      "outputs": []
    },
    {
      "cell_type": "code",
      "source": [
        "#@title 复制Google云端硬盘模型\n",
        "#@markdown 若使用，自行更改文件夹名、模型名\n",
        "model_path = '/content/drive/MyDrive/44k/G_68000.pth' #@param {type:\"string\"}\n",
        "config_path = \"/content/drive/MyDrive/44k/config.json\" #@param {type:\"string\"}\n",
        "#@markdown 聚类音色泄漏控制模型（可选）\n",
        "cluster_model_path = \"/content/drive/MyDrive/44k/kmeans_10000.pt\" #@param {type:\"string\"}\n",
        "!cp {model_path} /content/so-vits-svc/logs/44k\n",
        "!cp {config_path} /content/so-vits-svc/configs"
      ],
      "metadata": {
        "id": "vj8vyyjZoqYq"
      },
      "execution_count": null,
      "outputs": []
    },
    {
      "cell_type": "code",
      "execution_count": null,
      "metadata": {
        "id": "leTsZLQJlalF"
      },
      "outputs": [],
      "source": [
        "#@title 外链其他 gdown 模型\n",
        "#训练中歌手模型 \"spk:teto\" 962條 4.0\n",
        "!gdown 1-e5htroe-xO-eDQlSVb6ApD3M4g8_aLP  -O /content/so-vits-svc/logs/44k/G_68000.pth\n",
        "!gdown 1-W71C4uJGEqqkHCPdQPbHM8BuaH6XO_p  -O /content/so-vits-svc/configs/config.json\n",
        "!gdown 1y_g8Eb1bVrVKsWKH6km1xqHP-y3go7c1  -O /content/so-vits-svc/logs/44k/kmeans_10000.pt #聚类音色泄漏控制模型（可选）"
      ]
    },
    {
      "cell_type": "code",
      "source": [
        "#@title 从huggingface下载模型\n",
        "pth_link=\"https://huggingface.co/spaces/innnky/nyaru4.0/resolve/main/logs/44k/nyaru_G_126400.pth\" #@param{type:\"string\"}\n",
        "config_link=\"https://huggingface.co/spaces/innnky/nyaru4.0/resolve/main/logs/44k/nyaru_G_126400.pth\" #@param{type:\"string\"}\n",
        "cluster_model_path=\"https://huggingface.co/spaces/innnky/nyaru4.0/resolve/main/logs/44k/kmeans_10000.pt\" #@param{type:\"string\"}\n",
        "!wget -P /content/so-vits-svc/logs/44k {pth_link}\n",
        "!wget -P /content/so-vits-svc/configs {config_link}\n",
        "!wget -P /content/so-vits-svc/logs/44k {cluster_model_path}"
      ],
      "metadata": {
        "id": "kWKOXF-kk2dM"
      },
      "execution_count": null,
      "outputs": []
    },
    {
      "cell_type": "markdown",
      "metadata": {
        "id": "97JYP1f4lsMV"
      },
      "source": [
        "# 声音转换"
      ]
    },
    {
      "cell_type": "code",
      "source": [
        "#@title 上传.wav音频文件 \n",
        "import os\n",
        "from google.colab import files\n",
        "\n",
        "save_dir = \"/content/so-vits-svc/raw\"\n",
        "if not os.path.exists(save_dir):\n",
        "    os.makedirs(save_dir)\n",
        "\n",
        "uploaded = files.upload()\n",
        "file_name = list(uploaded.keys())[0]\n",
        "file_path = os.path.join(save_dir, file_name)\n",
        "with open(file_path, \"wb\") as f:\n",
        "    f.write(uploaded[file_name])\n",
        "print(f\"File saved at: {file_path}\")\n"
      ],
      "metadata": {
        "id": "InM-UusRFA7E"
      },
      "execution_count": null,
      "outputs": []
    },
    {
      "cell_type": "code",
      "execution_count": null,
      "metadata": {
        "id": "fFz01QFFlprN"
      },
      "outputs": [],
      "source": [
        "#@markdown 下载示例音频合成 風になる\n",
        "!gdown --id 1d-npX0KOYW5AE2fh0z1mkX3nFYvyrRii -O /content/so-vits-svc/raw/風になる.wav"
      ]
    },
    {
      "cell_type": "code",
      "source": [
        "#@title 从Dropbox下载Vocal WAV\n",
        "#@markdown Share_Link 中 www 改成dl 并且.wav后面删除 ?dl=0\n",
        "wav_link=\"https://dl.dropbox.com/s/mh5yfihdmk1cnri/1_07.%20%E3%83%A4%E3%82%AD%E3%83%A2%E3%83%81_%28Vocals%29.wav\" #@param{type:\"string\"}\n",
        "\n",
        "!wget -P /content/so-vits-svc/raw {wav_link}"
      ],
      "metadata": {
        "id": "xdG57fXqqxzC"
      },
      "execution_count": null,
      "outputs": []
    },
    {
      "cell_type": "markdown",
      "metadata": {
        "id": "31TXQ5eSlDTd"
      },
      "source": [
        "# 推理"
      ]
    },
    {
      "cell_type": "code",
      "source": [
        "#@title 合成音频（推理）修改\n",
        "#@markdown 需要将音频上传到so-vits-svc/raw 文件夹下, 然后设置模型路径、配置文件路径、合成的音频名称\n",
        "model_path = \"logs/44k/G_68000.pth\" #@param {type:\"string\"}\n",
        "config_path = \"configs/config.json\" #@param {type:\"string\"}\n",
        "clean_names = \"1_07. \\u30E4\\u30AD\\u30E2\\u30C1_(Vocals).wav\" #@param {type:\"string\"}\n",
        "spk_list = \"teto\" #@param {type:\"string\"}\n",
        "trans = \"0\"  #@param {type:\"string\"}\n",
        "#@markdown **聚类音色泄漏控制**\n",
        "\n",
        "#@markdown 0为完全不使用聚类，1为只使用聚类，通常设置0.5即可\n",
        "cluster_infer_ratio = \"0\"  #@param {type:\"string\"}\n",
        "slice_db = \"-40\"  #@param {type:\"string\"}\n",
        "wav_format = \"flac\"  #@param {type:\"string\"}\n",
        "wav_output = \"/content/so-vits-svc/results/\" + clean_names + \"_\" + trans + \"key\" + \"_\" + spk_list + \".\" + wav_format\n",
        "\n",
        "!python inference_main.py -m {model_path} -c {config_path} -n \"{clean_names}\" -t {trans} -s {spk_list}  -cr {cluster_infer_ratio} -sd {slice_db} -wf {wav_format}\n",
        "\n",
        "#@markdown 如果您不想從此處下載，請取消選中此選項。\n",
        "download_after_inference = True  #@param {type:\"boolean\"}\n",
        "\n",
        "if download_after_inference:\n",
        "  from google.colab import files\n",
        "  files.download(wav_output)"
      ],
      "metadata": {
        "id": "P2as0cJdprYL"
      },
      "execution_count": null,
      "outputs": []
    }
  ],
  "metadata": {
    "colab": {
      "provenance": [],
      "toc_visible": true,
      "authorship_tag": "ABX9TyPi7iZZqCddZp0XD/FCUBe9",
      "include_colab_link": true
    },
    "kernelspec": {
      "display_name": "Python 3",
      "name": "python3"
    },
    "language_info": {
      "name": "python"
    },
    "accelerator": "GPU",
    "gpuClass": "standard"
  },
  "nbformat": 4,
  "nbformat_minor": 0
}