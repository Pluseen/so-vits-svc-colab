{
  "nbformat": 4,
  "nbformat_minor": 0,
  "metadata": {
    "colab": {
      "provenance": [],
      "include_colab_link": true
    },
    "kernelspec": {
      "name": "python3",
      "display_name": "Python 3"
    },
    "language_info": {
      "name": "python"
    },
    "accelerator": "GPU",
    "gpuClass": "standard"
  },
  "cells": [
    {
      "cell_type": "markdown",
      "metadata": {
        "id": "view-in-github",
        "colab_type": "text"
      },
      "source": [
        "<a href=\"https://colab.research.google.com/github/seq2193/so-vits-svc-colab/blob/main/sovits4_0%E4%B8%80%E9%94%AE%E8%AE%AD%E7%BB%83_%E6%8E%A8%E7%90%86%E8%84%9A%E6%9C%AC.ipynb\" target=\"_parent\"><img src=\"https://colab.research.google.com/assets/colab-badge.svg\" alt=\"Open In Colab\"/></a>"
      ]
    },
    {
      "cell_type": "markdown",
      "source": [
        "初始项目：https://github.com/innnky/so-vits-svc\n",
        "\n",
        "修改日期：2023年3月13日\n",
        "\n",
        "原始Colab 链接<a target=\"_blank\" href=\"https://colab.research.google.com/drive/19fxpo-ZoL_ShEUeZIZi6Di-YioWrEyhR\">\n",
        "  <img src=\"https://colab.research.google.com/assets/colab-badge.svg\" alt=\"Open In Colab\"/>\n",
        "</a>"
      ],
      "metadata": {
        "id": "lTrPmOt6ZROg"
      }
    },
    {
      "cell_type": "code",
      "source": [
        "# 查看显卡\n",
        "!nvidia-smi"
      ],
      "metadata": {
        "colab": {
          "base_uri": "https://localhost:8080/"
        },
        "id": "0gQcIZ8RsOkn",
        "outputId": "3f73bbf6-0b5d-4559-9f5b-471b2b9c0c4d"
      },
      "execution_count": null,
      "outputs": [
        {
          "output_type": "stream",
          "name": "stdout",
          "text": [
            "Mon Feb 20 05:45:26 2023       \n",
            "+-----------------------------------------------------------------------------+\n",
            "| NVIDIA-SMI 510.47.03    Driver Version: 510.47.03    CUDA Version: 11.6     |\n",
            "|-------------------------------+----------------------+----------------------+\n",
            "| GPU  Name        Persistence-M| Bus-Id        Disp.A | Volatile Uncorr. ECC |\n",
            "| Fan  Temp  Perf  Pwr:Usage/Cap|         Memory-Usage | GPU-Util  Compute M. |\n",
            "|                               |                      |               MIG M. |\n",
            "|===============================+======================+======================|\n",
            "|   0  Tesla T4            Off  | 00000000:00:04.0 Off |                    0 |\n",
            "| N/A   66C    P0    32W /  70W |      0MiB / 15360MiB |      0%      Default |\n",
            "|                               |                      |                  N/A |\n",
            "+-------------------------------+----------------------+----------------------+\n",
            "                                                                               \n",
            "+-----------------------------------------------------------------------------+\n",
            "| Processes:                                                                  |\n",
            "|  GPU   GI   CI        PID   Type   Process name                  GPU Memory |\n",
            "|        ID   ID                                                   Usage      |\n",
            "|=============================================================================|\n",
            "|  No running processes found                                                 |\n",
            "+-----------------------------------------------------------------------------+\n"
          ]
        }
      ]
    },
    {
      "cell_type": "code",
      "execution_count": 1,
      "metadata": {
        "id": "LS0OPRkL4Pme",
        "colab": {
          "base_uri": "https://localhost:8080/"
        },
        "outputId": "7b4912f9-c97e-4e8d-9be8-7abf8e4ff26b"
      },
      "outputs": [
        {
          "output_type": "stream",
          "name": "stdout",
          "text": [
            "Cloning into 'so-vits-svc'...\n",
            "remote: Enumerating objects: 422, done.\u001b[K\n",
            "remote: Counting objects: 100% (22/22), done.\u001b[K\n",
            "remote: Compressing objects: 100% (18/18), done.\u001b[K\n",
            "remote: Total 422 (delta 10), reused 8 (delta 4), pack-reused 400\u001b[K\n",
            "Receiving objects: 100% (422/422), 8.09 MiB | 24.79 MiB/s, done.\n",
            "Resolving deltas: 100% (183/183), done.\n"
          ]
        }
      ],
      "source": [
        "#@title 克隆的github仓库\n",
        "!git clone https://github.com/svc-develop-team/so-vits-svc -b 4.0\n"
      ]
    },
    {
      "cell_type": "code",
      "source": [
        "#@title 安装依赖\n",
        "%cd /content/so-vits-svc\n",
        "!pip install --upgrade pip setuptools numpy numba\n",
        "#!pip install numpy==1.23.5\n",
        "!pip install pyworld praat-parselmouth fairseq"
      ],
      "metadata": {
        "id": "zXBLkXxL4T1O"
      },
      "execution_count": null,
      "outputs": []
    },
    {
      "cell_type": "code",
      "source": [
        "#@title 下载必要模型文件\n",
        "# 源仓库地址：[contentvec](https://github.com/auspicious3000/contentvec)\n",
        "# 模型原下载链接：[checkpoint_best_legacy_500.pt](https://ibm.box.com/s/z1wgl1stco8ffooyatzdwsqn2psd9lrr)\n",
        "# 由于源网盘无法提供http直链，根据mit协议，对模型进行二次分发，提供下载直链\n",
        "#!wget -P hubert/ https://huggingface.co/innnky/contentvec/resolve/main/checkpoint_best_legacy_500.pt\n",
        "!wget -P hubert/ https://huggingface.co/datasets/seq2193/sovits_pretrained/resolve/main/44k/checkpoint_best_legacy_500.pt"
      ],
      "metadata": {
        "id": "pCqf3W0d6ify",
        "colab": {
          "base_uri": "https://localhost:8080/"
        },
        "outputId": "f40faf35-8723-4c07-9872-327b2b0f0215"
      },
      "execution_count": null,
      "outputs": [
        {
          "output_type": "stream",
          "name": "stdout",
          "text": [
            "--2023-02-20 05:57:07--  https://huggingface.co/innnky/contentvec/resolve/main/checkpoint_best_legacy_500.pt\n",
            "Resolving huggingface.co (huggingface.co)... 54.235.118.239, 3.231.67.228, 2600:1f18:147f:e800:671:b733:ecf3:a585, ...\n",
            "Connecting to huggingface.co (huggingface.co)|54.235.118.239|:443... connected.\n",
            "HTTP request sent, awaiting response... 302 Found\n",
            "Location: https://cdn-lfs.huggingface.co/repos/0a/5f/0a5f89ff9058782f4b7a207d38e0914d63f6f55e8fc1fad0c3bf68b546039f2d/60d936ec5a566776fc392e69ad8b630d14eb588111233fe313436e200a7b187b?response-content-disposition=attachment%3B+filename*%3DUTF-8%27%27checkpoint_best_legacy_500.pt%3B+filename%3D%22checkpoint_best_legacy_500.pt%22%3B&Expires=1677131827&Policy=eyJTdGF0ZW1lbnQiOlt7IlJlc291cmNlIjoiaHR0cHM6Ly9jZG4tbGZzLmh1Z2dpbmdmYWNlLmNvL3JlcG9zLzBhLzVmLzBhNWY4OWZmOTA1ODc4MmY0YjdhMjA3ZDM4ZTA5MTRkNjNmNmY1NWU4ZmMxZmFkMGMzYmY2OGI1NDYwMzlmMmQvNjBkOTM2ZWM1YTU2Njc3NmZjMzkyZTY5YWQ4YjYzMGQxNGViNTg4MTExMjMzZmUzMTM0MzZlMjAwYTdiMTg3Yj9yZXNwb25zZS1jb250ZW50LWRpc3Bvc2l0aW9uPSoiLCJDb25kaXRpb24iOnsiRGF0ZUxlc3NUaGFuIjp7IkFXUzpFcG9jaFRpbWUiOjE2NzcxMzE4Mjd9fX1dfQ__&Signature=FlGU7qw0LyoqZi6GhC2EgoUdFNRew%7En5I9SzhfbsIFHVavKQ4OCx4-pgGRqwSJN0seHmTbQeLKPPxIK1%7E3xedFviGA7fKNSb2aeD9R2Y1bO3KhuzJQYKxdTiChUAtR3hBd2dWlXeJtiiAIcKtPDHXG5Ot6HahpJ8rN3%7ENsdg1OqEK2dlbajByCAN9qc%7ENMlxKvKMekcXl1E6vUuC74RtDApIDOKZqzEvCsmu2nfy2PnXXjkcvKgeRL1uI88O-IiZT0DyROVYm24-AkCJC1g7OcF2oS1NNH8F5D4Dwaq8Jq2fFjzWGQeHv9znS6KtU71YVkb3FlQrB9-oIQLCLX3PsQ__&Key-Pair-Id=KVTP0A1DKRTAX [following]\n",
            "--2023-02-20 05:57:07--  https://cdn-lfs.huggingface.co/repos/0a/5f/0a5f89ff9058782f4b7a207d38e0914d63f6f55e8fc1fad0c3bf68b546039f2d/60d936ec5a566776fc392e69ad8b630d14eb588111233fe313436e200a7b187b?response-content-disposition=attachment%3B+filename*%3DUTF-8%27%27checkpoint_best_legacy_500.pt%3B+filename%3D%22checkpoint_best_legacy_500.pt%22%3B&Expires=1677131827&Policy=eyJTdGF0ZW1lbnQiOlt7IlJlc291cmNlIjoiaHR0cHM6Ly9jZG4tbGZzLmh1Z2dpbmdmYWNlLmNvL3JlcG9zLzBhLzVmLzBhNWY4OWZmOTA1ODc4MmY0YjdhMjA3ZDM4ZTA5MTRkNjNmNmY1NWU4ZmMxZmFkMGMzYmY2OGI1NDYwMzlmMmQvNjBkOTM2ZWM1YTU2Njc3NmZjMzkyZTY5YWQ4YjYzMGQxNGViNTg4MTExMjMzZmUzMTM0MzZlMjAwYTdiMTg3Yj9yZXNwb25zZS1jb250ZW50LWRpc3Bvc2l0aW9uPSoiLCJDb25kaXRpb24iOnsiRGF0ZUxlc3NUaGFuIjp7IkFXUzpFcG9jaFRpbWUiOjE2NzcxMzE4Mjd9fX1dfQ__&Signature=FlGU7qw0LyoqZi6GhC2EgoUdFNRew%7En5I9SzhfbsIFHVavKQ4OCx4-pgGRqwSJN0seHmTbQeLKPPxIK1%7E3xedFviGA7fKNSb2aeD9R2Y1bO3KhuzJQYKxdTiChUAtR3hBd2dWlXeJtiiAIcKtPDHXG5Ot6HahpJ8rN3%7ENsdg1OqEK2dlbajByCAN9qc%7ENMlxKvKMekcXl1E6vUuC74RtDApIDOKZqzEvCsmu2nfy2PnXXjkcvKgeRL1uI88O-IiZT0DyROVYm24-AkCJC1g7OcF2oS1NNH8F5D4Dwaq8Jq2fFjzWGQeHv9znS6KtU71YVkb3FlQrB9-oIQLCLX3PsQ__&Key-Pair-Id=KVTP0A1DKRTAX\n",
            "Resolving cdn-lfs.huggingface.co (cdn-lfs.huggingface.co)... 108.156.60.109, 108.156.60.44, 108.156.60.37, ...\n",
            "Connecting to cdn-lfs.huggingface.co (cdn-lfs.huggingface.co)|108.156.60.109|:443... connected.\n",
            "HTTP request sent, awaiting response... 200 OK\n",
            "Length: 1330114945 (1.2G) [binary/octet-stream]\n",
            "Saving to: ‘hubert/checkpoint_best_legacy_500.pt’\n",
            "\n",
            "checkpoint_best_leg 100%[===================>]   1.24G  40.5MB/s    in 37s     \n",
            "\n",
            "2023-02-20 05:57:45 (33.9 MB/s) - ‘hubert/checkpoint_best_legacy_500.pt’ saved [1330114945/1330114945]\n",
            "\n"
          ]
        }
      ]
    },
    {
      "cell_type": "markdown",
      "source": [
        "# 数据集预处理"
      ],
      "metadata": {
        "id": "k1qadJBFehMo"
      }
    },
    {
      "cell_type": "code",
      "source": [
        "#@title 加载Google云端硬盘\n",
        "#@markdown 加载Google云端硬盘\n",
        "from google.colab import drive\n",
        "drive.mount('/content/drive')"
      ],
      "metadata": {
        "colab": {
          "base_uri": "https://localhost:8080/"
        },
        "id": "wmUkpUmfn_Hs",
        "outputId": "d1bc19e9-f296-4be8-b988-313692f99f89"
      },
      "execution_count": null,
      "outputs": [
        {
          "output_type": "stream",
          "name": "stdout",
          "text": [
            "Mounted at /content/drive\n"
          ]
        }
      ]
    },
    {
      "cell_type": "markdown",
      "source": [
        "该处理脚本可以一次性预处理多个说话人，并且生成多说话人filelists以及对应的配置文件\n",
        "\n",
        "只需要将你的数据集按照以下文件结构放到dataset_raw目录下\n",
        "\n",
        "\n",
        "```\n",
        "dataset_raw\n",
        "├───speaker0\n",
        "│   ├───xxx1-xxx1.wav\n",
        "│   ├───...\n",
        "│   └───Lxx-0xx8.wav\n",
        "└───speaker1\n",
        "    ├───xx2-0xxx2.wav\n",
        "    ├───...\n",
        "    └───xxx7-xxx007.wav\n",
        "\n",
        "```\n",
        "\n",
        "\n"
      ],
      "metadata": {
        "id": "kBlju6Q3lSM6"
      }
    },
    {
      "cell_type": "code",
      "source": [
        "#@title 从谷歌云盘加载打包好的数据集进行预处理\n",
        "#@markdown **sovits4.0的数据集不再需要特定的文件结构，将数据集的所有wav文件放在同一个文件夹下压缩为zip后上传至谷歌云盘即可，该处理脚本可以一次性预处理多个数据集，处理多个数据集时请依次解压每一个数据集**\n",
        "\n",
        "#@markdown 数据集名称（**人物的英文/拼音名**，与建数据文件夹时统一；不带zip。）\n",
        "DATASETNAME = \"kiritan\"  #@param {type:\"string\"}\n",
        "#@markdown 压缩包路径（谷歌盘路径，传到dataset的就不改这个，没有dataset文件夹就新建一个）\n",
        "ZIP_PATH = \"/content/drive/MyDrive/dataset/\"  #@param {type:\"string\"}\n",
        "ZIP_NAME = ZIP_PATH + DATASETNAME\n",
        "\n",
        "!unzip -d /content/so-vits-svc/dataset_raw {ZIP_NAME}.zip"
      ],
      "metadata": {
        "colab": {
          "base_uri": "https://localhost:8080/"
        },
        "id": "U05CXlAipvJR",
        "outputId": "8e5eae76-ced6-45dc-8da1-5373a3dfe408"
      },
      "execution_count": null,
      "outputs": [
        {
          "output_type": "stream",
          "name": "stdout",
          "text": [
            "Archive:  /content/drive/MyDrive/dataset/kiritan.zip\n",
            "   creating: /content/so-vits-svc/dataset_raw/kiritan/\n",
            "  inflating: /content/so-vits-svc/dataset_raw/kiritan/000047.wav  \n",
            "  inflating: /content/so-vits-svc/dataset_raw/kiritan/000046.wav  \n",
            "  inflating: /content/so-vits-svc/dataset_raw/kiritan/000050.wav  \n",
            "  inflating: /content/so-vits-svc/dataset_raw/kiritan/000044.wav  \n",
            "  inflating: /content/so-vits-svc/dataset_raw/kiritan/000045.wav  \n",
            "  inflating: /content/so-vits-svc/dataset_raw/kiritan/000041.wav  \n",
            "  inflating: /content/so-vits-svc/dataset_raw/kiritan/000040.wav  \n",
            "  inflating: /content/so-vits-svc/dataset_raw/kiritan/000042.wav  \n",
            "  inflating: /content/so-vits-svc/dataset_raw/kiritan/000043.wav  \n",
            "  inflating: /content/so-vits-svc/dataset_raw/kiritan/000018.wav  \n",
            "  inflating: /content/so-vits-svc/dataset_raw/kiritan/000024.wav  \n",
            "  inflating: /content/so-vits-svc/dataset_raw/kiritan/000030.wav  \n",
            "  inflating: /content/so-vits-svc/dataset_raw/kiritan/000031.wav  \n",
            "  inflating: /content/so-vits-svc/dataset_raw/kiritan/000025.wav  \n",
            "  inflating: /content/so-vits-svc/dataset_raw/kiritan/000019.wav  \n",
            "  inflating: /content/so-vits-svc/dataset_raw/kiritan/000033.wav  \n",
            "  inflating: /content/so-vits-svc/dataset_raw/kiritan/000027.wav  \n",
            "  inflating: /content/so-vits-svc/dataset_raw/kiritan/000026.wav  \n",
            "  inflating: /content/so-vits-svc/dataset_raw/kiritan/000032.wav  \n",
            "  inflating: /content/so-vits-svc/dataset_raw/kiritan/000036.wav  \n",
            "  inflating: /content/so-vits-svc/dataset_raw/kiritan/000022.wav  \n",
            "  inflating: /content/so-vits-svc/dataset_raw/kiritan/000023.wav  \n",
            "  inflating: /content/so-vits-svc/dataset_raw/kiritan/000037.wav  \n",
            "  inflating: /content/so-vits-svc/dataset_raw/kiritan/000021.wav  \n",
            "  inflating: /content/so-vits-svc/dataset_raw/kiritan/000035.wav  \n",
            "  inflating: /content/so-vits-svc/dataset_raw/kiritan/000009.wav  \n",
            "  inflating: /content/so-vits-svc/dataset_raw/kiritan/000008.wav  \n",
            "  inflating: /content/so-vits-svc/dataset_raw/kiritan/000034.wav  \n",
            "  inflating: /content/so-vits-svc/dataset_raw/kiritan/000020.wav  \n",
            "  inflating: /content/so-vits-svc/dataset_raw/kiritan/000039.wav  \n",
            "  inflating: /content/so-vits-svc/dataset_raw/kiritan/000005.wav  \n",
            "  inflating: /content/so-vits-svc/dataset_raw/kiritan/000011.wav  \n",
            "  inflating: /content/so-vits-svc/dataset_raw/kiritan/000010.wav  \n",
            "  inflating: /content/so-vits-svc/dataset_raw/kiritan/000004.wav  \n",
            "  inflating: /content/so-vits-svc/dataset_raw/kiritan/000038.wav  \n",
            "  inflating: /content/so-vits-svc/dataset_raw/kiritan/000012.wav  \n",
            "  inflating: /content/so-vits-svc/dataset_raw/kiritan/000006.wav  \n",
            "  inflating: /content/so-vits-svc/dataset_raw/kiritan/000007.wav  \n",
            "  inflating: /content/so-vits-svc/dataset_raw/kiritan/000013.wav  \n",
            "  inflating: /content/so-vits-svc/dataset_raw/kiritan/000017.wav  \n",
            "  inflating: /content/so-vits-svc/dataset_raw/kiritan/000003.wav  \n",
            "  inflating: /content/so-vits-svc/dataset_raw/kiritan/000002.wav  \n",
            "  inflating: /content/so-vits-svc/dataset_raw/kiritan/000016.wav  \n",
            "  inflating: /content/so-vits-svc/dataset_raw/kiritan/000000.wav  \n",
            "  inflating: /content/so-vits-svc/dataset_raw/kiritan/000014.wav  \n",
            "  inflating: /content/so-vits-svc/dataset_raw/kiritan/000028.wav  \n",
            "  inflating: /content/so-vits-svc/dataset_raw/kiritan/000029.wav  \n",
            "  inflating: /content/so-vits-svc/dataset_raw/kiritan/000015.wav  \n",
            "  inflating: /content/so-vits-svc/dataset_raw/kiritan/000001.wav  \n",
            "  inflating: /content/so-vits-svc/dataset_raw/kiritan/000048.wav  \n",
            "  inflating: /content/so-vits-svc/dataset_raw/kiritan/000049.wav  \n"
          ]
        }
      ]
    },
    {
      "cell_type": "code",
      "source": [
        "#@title 重采样到44100hz\n",
        "!python resample.py"
      ],
      "metadata": {
        "id": "_ThKTzYs5CfL",
        "colab": {
          "base_uri": "https://localhost:8080/"
        },
        "outputId": "9cee2a4e-e87d-46c0-d5c7-28c1f5a5e40c"
      },
      "execution_count": null,
      "outputs": [
        {
          "output_type": "stream",
          "name": "stdout",
          "text": [
            "./dataset_raw/kiritan\n",
            "51it [00:00, 89.46it/s]\n"
          ]
        }
      ]
    },
    {
      "cell_type": "code",
      "source": [
        "#@title 划分训练集 生成配置文件\n",
        "!python preprocess_flist_config.py"
      ],
      "metadata": {
        "id": "svITReeL5N8K",
        "colab": {
          "base_uri": "https://localhost:8080/"
        },
        "outputId": "14536956-5c40-44eb-fb69-9f9afd2caff8"
      },
      "execution_count": null,
      "outputs": [
        {
          "output_type": "stream",
          "name": "stdout",
          "text": [
            "\r  0% 0/1 [00:00<?, ?it/s]\r100% 1/1 [00:00<00:00, 4359.98it/s]\n",
            "Writing ./filelists/train.txt\n",
            "\r  0% 0/47 [00:00<?, ?it/s]\r100% 47/47 [00:00<00:00, 791695.94it/s]\n",
            "Writing ./filelists/val.txt\n",
            "\r  0% 0/2 [00:00<?, ?it/s]\r100% 2/2 [00:00<00:00, 74898.29it/s]\n",
            "Writing ./filelists/test.txt\n",
            "\r  0% 0/2 [00:00<?, ?it/s]\r100% 2/2 [00:00<00:00, 77672.30it/s]\n",
            "Writing configs/config.json\n"
          ]
        }
      ]
    },
    {
      "cell_type": "code",
      "source": [
        "#@title 生成hubert和f0\n",
        "!python preprocess_hubert_f0.py"
      ],
      "metadata": {
        "id": "xHUXMi836DMe",
        "colab": {
          "base_uri": "https://localhost:8080/"
        },
        "outputId": "47ae2095-bab7-471d-d3f2-e8a1d51514e5"
      },
      "execution_count": null,
      "outputs": [
        {
          "output_type": "stream",
          "name": "stdout",
          "text": [
            "[51]\n",
            "Loading hubert for content...\n",
            "load model(s) from hubert/checkpoint_best_legacy_500.pt\n",
            "INFO:fairseq.tasks.text_to_speech:Please install tensorboardX: pip install tensorboardX\n",
            "INFO:fairseq.tasks.hubert_pretraining:current directory is /content/so-vits-svc\n",
            "INFO:fairseq.tasks.hubert_pretraining:HubertPretrainingTask Config {'_name': 'hubert_pretraining', 'data': 'metadata', 'fine_tuning': False, 'labels': ['km'], 'label_dir': 'label', 'label_rate': 50.0, 'sample_rate': 16000, 'normalize': False, 'enable_padding': False, 'max_keep_size': None, 'max_sample_size': 250000, 'min_sample_size': 32000, 'single_target': False, 'random_crop': True, 'pad_audio': False}\n",
            "INFO:fairseq.models.hubert.hubert:HubertModel Config: {'_name': 'hubert', 'label_rate': 50.0, 'extractor_mode': default, 'encoder_layers': 12, 'encoder_embed_dim': 768, 'encoder_ffn_embed_dim': 3072, 'encoder_attention_heads': 12, 'activation_fn': gelu, 'layer_type': transformer, 'dropout': 0.1, 'attention_dropout': 0.1, 'activation_dropout': 0.0, 'encoder_layerdrop': 0.05, 'dropout_input': 0.1, 'dropout_features': 0.1, 'final_dim': 256, 'untie_final_proj': True, 'layer_norm_first': False, 'conv_feature_layers': '[(512,10,5)] + [(512,3,2)] * 4 + [(512,2,2)] * 2', 'conv_bias': False, 'logit_temp': 0.1, 'target_glu': False, 'feature_grad_mult': 0.1, 'mask_length': 10, 'mask_prob': 0.8, 'mask_selection': static, 'mask_other': 0.0, 'no_mask_overlap': False, 'mask_min_space': 1, 'mask_channel_length': 10, 'mask_channel_prob': 0.0, 'mask_channel_selection': static, 'mask_channel_other': 0.0, 'no_mask_channel_overlap': False, 'mask_channel_min_space': 1, 'conv_pos': 128, 'conv_pos_groups': 16, 'latent_temp': [2.0, 0.5, 0.999995], 'skip_masked': False, 'skip_nomask': False, 'checkpoint_activations': False, 'required_seq_len_multiple': 2, 'depthwise_conv_kernel_size': 31, 'attn_type': '', 'pos_enc_type': 'abs', 'fp16': False}\n",
            "Loaded hubert.\n",
            "100% 51/51 [00:16<00:00,  3.13it/s]\n",
            "\u001b[0m"
          ]
        }
      ]
    },
    {
      "cell_type": "code",
      "source": [
        "#@title 至此 数据集预处理制作完毕，将数据集和相关文件保存到谷歌云盘的dataset文件夹下，方便下次训练使用\n",
        "#压缩dataset文件夹\n",
        "!zip -r dataset.zip /content/so-vits-svc/dataset\n",
        "#@markdown 自定义备份到谷歌云盘的dataset文件夹下的数据集文件夹名，避免混淆\n",
        "dataset_name_drive = \"kiritan_preprocessed\"  #@param {type:\"string\"}\n",
        "DATASET_PATH_DRIVE = \"/content/drive/MyDrive/dataset/\" + dataset_name_drive\n",
        "!mkdir -p {DATASET_PATH_DRIVE}\n",
        "\n",
        "!cp /content/so-vits-svc/dataset.zip \"{DATASET_PATH_DRIVE}\"\n",
        "!cp configs/config.json \"{DATASET_PATH_DRIVE}\"\n",
        "!cp filelists/train.txt \"{DATASET_PATH_DRIVE}\"\n",
        "!cp filelists/val.txt \"{DATASET_PATH_DRIVE}\""
      ],
      "metadata": {
        "id": "Wo4OTmTAUXgj",
        "cellView": "form",
        "colab": {
          "base_uri": "https://localhost:8080/"
        },
        "outputId": "f215b116-005b-469c-babb-2b8100655cf6"
      },
      "execution_count": null,
      "outputs": [
        {
          "output_type": "stream",
          "name": "stdout",
          "text": [
            "  adding: content/so-vits-svc/dataset/ (stored 0%)\n",
            "  adding: content/so-vits-svc/dataset/44k/ (stored 0%)\n",
            "  adding: content/so-vits-svc/dataset/44k/kiritan/ (stored 0%)\n",
            "  adding: content/so-vits-svc/dataset/44k/kiritan/000049.wav.soft.pt (deflated 8%)\n",
            "  adding: content/so-vits-svc/dataset/44k/kiritan/000020.wav.soft.pt (deflated 8%)\n",
            "  adding: content/so-vits-svc/dataset/44k/kiritan/000027.wav.f0.npy (deflated 46%)\n",
            "  adding: content/so-vits-svc/dataset/44k/kiritan/000007.wav.f0.npy (deflated 30%)\n",
            "  adding: content/so-vits-svc/dataset/44k/kiritan/000026.wav.f0.npy (deflated 21%)\n",
            "  adding: content/so-vits-svc/dataset/44k/kiritan/000000.wav (deflated 8%)\n",
            "  adding: content/so-vits-svc/dataset/44k/kiritan/000039.wav.soft.pt (deflated 8%)\n",
            "  adding: content/so-vits-svc/dataset/44k/kiritan/000035.wav.soft.pt (deflated 8%)\n",
            "  adding: content/so-vits-svc/dataset/44k/kiritan/000024.wav.soft.pt (deflated 8%)\n",
            "  adding: content/so-vits-svc/dataset/44k/kiritan/000004.wav (deflated 5%)\n",
            "  adding: content/so-vits-svc/dataset/44k/kiritan/000029.wav (deflated 11%)\n",
            "  adding: content/so-vits-svc/dataset/44k/kiritan/000032.wav.soft.pt (deflated 8%)\n",
            "  adding: content/so-vits-svc/dataset/44k/kiritan/000011.wav.f0.npy (deflated 28%)\n",
            "  adding: content/so-vits-svc/dataset/44k/kiritan/000013.wav.f0.npy (deflated 19%)\n",
            "  adding: content/so-vits-svc/dataset/44k/kiritan/000024.wav.f0.npy (deflated 31%)\n",
            "  adding: content/so-vits-svc/dataset/44k/kiritan/000032.wav.f0.npy (deflated 24%)\n",
            "  adding: content/so-vits-svc/dataset/44k/kiritan/000019.wav.soft.pt (deflated 8%)\n",
            "  adding: content/so-vits-svc/dataset/44k/kiritan/000033.wav (deflated 8%)\n",
            "  adding: content/so-vits-svc/dataset/44k/kiritan/000026.wav.soft.pt (deflated 8%)\n",
            "  adding: content/so-vits-svc/dataset/44k/kiritan/000048.wav (deflated 10%)\n",
            "  adding: content/so-vits-svc/dataset/44k/kiritan/000009.wav (deflated 7%)\n",
            "  adding: content/so-vits-svc/dataset/44k/kiritan/000044.wav.f0.npy (deflated 24%)\n",
            "  adding: content/so-vits-svc/dataset/44k/kiritan/000050.wav (deflated 6%)\n",
            "  adding: content/so-vits-svc/dataset/44k/kiritan/000034.wav.soft.pt (deflated 8%)\n",
            "  adding: content/so-vits-svc/dataset/44k/kiritan/000026.wav (deflated 6%)\n",
            "  adding: content/so-vits-svc/dataset/44k/kiritan/000008.wav (deflated 9%)\n",
            "  adding: content/so-vits-svc/dataset/44k/kiritan/000021.wav (deflated 3%)\n",
            "  adding: content/so-vits-svc/dataset/44k/kiritan/000050.wav.f0.npy (deflated 28%)\n",
            "  adding: content/so-vits-svc/dataset/44k/kiritan/000018.wav.soft.pt (deflated 8%)\n",
            "  adding: content/so-vits-svc/dataset/44k/kiritan/000046.wav.soft.pt (deflated 8%)\n",
            "  adding: content/so-vits-svc/dataset/44k/kiritan/000034.wav.f0.npy (deflated 26%)\n",
            "  adding: content/so-vits-svc/dataset/44k/kiritan/000041.wav.f0.npy (deflated 21%)\n",
            "  adding: content/so-vits-svc/dataset/44k/kiritan/000029.wav.f0.npy (deflated 29%)\n",
            "  adding: content/so-vits-svc/dataset/44k/kiritan/000025.wav.f0.npy (deflated 32%)\n",
            "  adding: content/so-vits-svc/dataset/44k/kiritan/000045.wav (deflated 9%)\n",
            "  adding: content/so-vits-svc/dataset/44k/kiritan/000043.wav (deflated 5%)\n",
            "  adding: content/so-vits-svc/dataset/44k/kiritan/000006.wav.soft.pt (deflated 8%)\n",
            "  adding: content/so-vits-svc/dataset/44k/kiritan/000040.wav (deflated 11%)\n",
            "  adding: content/so-vits-svc/dataset/44k/kiritan/000038.wav.f0.npy (deflated 29%)\n",
            "  adding: content/so-vits-svc/dataset/44k/kiritan/000023.wav.f0.npy (deflated 48%)\n",
            "  adding: content/so-vits-svc/dataset/44k/kiritan/000038.wav (deflated 8%)\n",
            "  adding: content/so-vits-svc/dataset/44k/kiritan/000003.wav.soft.pt (deflated 8%)\n",
            "  adding: content/so-vits-svc/dataset/44k/kiritan/000007.wav (deflated 11%)\n",
            "  adding: content/so-vits-svc/dataset/44k/kiritan/000046.wav (deflated 8%)\n",
            "  adding: content/so-vits-svc/dataset/44k/kiritan/000030.wav (deflated 6%)\n",
            "  adding: content/so-vits-svc/dataset/44k/kiritan/000010.wav.soft.pt (deflated 8%)\n",
            "  adding: content/so-vits-svc/dataset/44k/kiritan/000005.wav (deflated 6%)\n",
            "  adding: content/so-vits-svc/dataset/44k/kiritan/000010.wav.f0.npy (deflated 24%)\n",
            "  adding: content/so-vits-svc/dataset/44k/kiritan/000011.wav (deflated 9%)\n",
            "  adding: content/so-vits-svc/dataset/44k/kiritan/000017.wav.f0.npy (deflated 20%)\n",
            "  adding: content/so-vits-svc/dataset/44k/kiritan/000015.wav.f0.npy (deflated 34%)\n",
            "  adding: content/so-vits-svc/dataset/44k/kiritan/000001.wav.f0.npy (deflated 17%)\n",
            "  adding: content/so-vits-svc/dataset/44k/kiritan/000031.wav.soft.pt (deflated 8%)\n",
            "  adding: content/so-vits-svc/dataset/44k/kiritan/000002.wav.f0.npy (deflated 62%)\n",
            "  adding: content/so-vits-svc/dataset/44k/kiritan/000024.wav (deflated 9%)\n",
            "  adding: content/so-vits-svc/dataset/44k/kiritan/000033.wav.f0.npy (deflated 48%)\n",
            "  adding: content/so-vits-svc/dataset/44k/kiritan/000045.wav.soft.pt (deflated 8%)\n",
            "  adding: content/so-vits-svc/dataset/44k/kiritan/000027.wav.soft.pt (deflated 8%)\n",
            "  adding: content/so-vits-svc/dataset/44k/kiritan/000020.wav (deflated 3%)\n",
            "  adding: content/so-vits-svc/dataset/44k/kiritan/000017.wav (deflated 6%)\n",
            "  adding: content/so-vits-svc/dataset/44k/kiritan/000000.wav.f0.npy (deflated 20%)\n",
            "  adding: content/so-vits-svc/dataset/44k/kiritan/000013.wav.soft.pt (deflated 8%)\n",
            "  adding: content/so-vits-svc/dataset/44k/kiritan/000007.wav.soft.pt (deflated 8%)\n",
            "  adding: content/so-vits-svc/dataset/44k/kiritan/000044.wav.soft.pt (deflated 8%)\n",
            "  adding: content/so-vits-svc/dataset/44k/kiritan/000003.wav.f0.npy (deflated 20%)\n",
            "  adding: content/so-vits-svc/dataset/44k/kiritan/000011.wav.soft.pt (deflated 8%)\n",
            "  adding: content/so-vits-svc/dataset/44k/kiritan/000031.wav.f0.npy (deflated 27%)\n",
            "  adding: content/so-vits-svc/dataset/44k/kiritan/000036.wav.f0.npy (deflated 29%)\n",
            "  adding: content/so-vits-svc/dataset/44k/kiritan/000022.wav (deflated 6%)\n",
            "  adding: content/so-vits-svc/dataset/44k/kiritan/000016.wav.soft.pt (deflated 8%)\n",
            "  adding: content/so-vits-svc/dataset/44k/kiritan/000018.wav (deflated 6%)\n",
            "  adding: content/so-vits-svc/dataset/44k/kiritan/000038.wav.soft.pt (deflated 8%)\n",
            "  adding: content/so-vits-svc/dataset/44k/kiritan/000044.wav (deflated 7%)\n",
            "  adding: content/so-vits-svc/dataset/44k/kiritan/000039.wav (deflated 6%)\n",
            "  adding: content/so-vits-svc/dataset/44k/kiritan/000002.wav (deflated 11%)\n",
            "  adding: content/so-vits-svc/dataset/44k/kiritan/000028.wav.soft.pt (deflated 8%)\n",
            "  adding: content/so-vits-svc/dataset/44k/kiritan/000047.wav.f0.npy (deflated 30%)\n",
            "  adding: content/so-vits-svc/dataset/44k/kiritan/000015.wav (deflated 5%)\n",
            "  adding: content/so-vits-svc/dataset/44k/kiritan/000009.wav.f0.npy (deflated 23%)\n",
            "  adding: content/so-vits-svc/dataset/44k/kiritan/000005.wav.f0.npy (deflated 37%)\n",
            "  adding: content/so-vits-svc/dataset/44k/kiritan/000030.wav.f0.npy (deflated 17%)\n",
            "  adding: content/so-vits-svc/dataset/44k/kiritan/000027.wav (deflated 9%)\n",
            "  adding: content/so-vits-svc/dataset/44k/kiritan/000035.wav.f0.npy (deflated 22%)\n",
            "  adding: content/so-vits-svc/dataset/44k/kiritan/000034.wav (deflated 12%)\n",
            "  adding: content/so-vits-svc/dataset/44k/kiritan/000047.wav (deflated 7%)\n",
            "  adding: content/so-vits-svc/dataset/44k/kiritan/000004.wav.soft.pt (deflated 8%)\n",
            "  adding: content/so-vits-svc/dataset/44k/kiritan/000012.wav.f0.npy (deflated 36%)\n",
            "  adding: content/so-vits-svc/dataset/44k/kiritan/000017.wav.soft.pt (deflated 8%)\n",
            "  adding: content/so-vits-svc/dataset/44k/kiritan/000028.wav (deflated 7%)\n",
            "  adding: content/so-vits-svc/dataset/44k/kiritan/000008.wav.soft.pt (deflated 8%)\n",
            "  adding: content/so-vits-svc/dataset/44k/kiritan/000012.wav.soft.pt (deflated 8%)\n",
            "  adding: content/so-vits-svc/dataset/44k/kiritan/000019.wav (deflated 6%)\n",
            "  adding: content/so-vits-svc/dataset/44k/kiritan/000039.wav.f0.npy (deflated 40%)\n",
            "  adding: content/so-vits-svc/dataset/44k/kiritan/000040.wav.soft.pt (deflated 8%)\n",
            "  adding: content/so-vits-svc/dataset/44k/kiritan/000043.wav.soft.pt (deflated 8%)\n",
            "  adding: content/so-vits-svc/dataset/44k/kiritan/000029.wav.soft.pt (deflated 8%)\n",
            "  adding: content/so-vits-svc/dataset/44k/kiritan/000019.wav.f0.npy (deflated 36%)\n",
            "  adding: content/so-vits-svc/dataset/44k/kiritan/000013.wav (deflated 8%)\n",
            "  adding: content/so-vits-svc/dataset/44k/kiritan/000021.wav.soft.pt (deflated 8%)\n",
            "  adding: content/so-vits-svc/dataset/44k/kiritan/000009.wav.soft.pt (deflated 8%)\n",
            "  adding: content/so-vits-svc/dataset/44k/kiritan/000032.wav (deflated 5%)\n",
            "  adding: content/so-vits-svc/dataset/44k/kiritan/000008.wav.f0.npy (deflated 45%)\n",
            "  adding: content/so-vits-svc/dataset/44k/kiritan/000033.wav.soft.pt (deflated 8%)\n",
            "  adding: content/so-vits-svc/dataset/44k/kiritan/000016.wav.f0.npy (deflated 21%)\n",
            "  adding: content/so-vits-svc/dataset/44k/kiritan/000022.wav.soft.pt (deflated 8%)\n",
            "  adding: content/so-vits-svc/dataset/44k/kiritan/000045.wav.f0.npy (deflated 29%)\n",
            "  adding: content/so-vits-svc/dataset/44k/kiritan/000004.wav.f0.npy (deflated 32%)\n",
            "  adding: content/so-vits-svc/dataset/44k/kiritan/000023.wav.soft.pt (deflated 8%)\n",
            "  adding: content/so-vits-svc/dataset/44k/kiritan/000043.wav.f0.npy (deflated 65%)\n",
            "  adding: content/so-vits-svc/dataset/44k/kiritan/000014.wav.f0.npy (deflated 46%)\n",
            "  adding: content/so-vits-svc/dataset/44k/kiritan/000042.wav.f0.npy (deflated 33%)\n",
            "  adding: content/so-vits-svc/dataset/44k/kiritan/000002.wav.soft.pt (deflated 8%)\n",
            "  adding: content/so-vits-svc/dataset/44k/kiritan/000006.wav.f0.npy (deflated 22%)\n",
            "  adding: content/so-vits-svc/dataset/44k/kiritan/000014.wav.soft.pt (deflated 8%)\n",
            "  adding: content/so-vits-svc/dataset/44k/kiritan/000035.wav (deflated 8%)\n",
            "  adding: content/so-vits-svc/dataset/44k/kiritan/000010.wav (deflated 8%)\n",
            "  adding: content/so-vits-svc/dataset/44k/kiritan/000001.wav (deflated 5%)\n",
            "  adding: content/so-vits-svc/dataset/44k/kiritan/000048.wav.soft.pt (deflated 8%)\n",
            "  adding: content/so-vits-svc/dataset/44k/kiritan/000046.wav.f0.npy (deflated 28%)\n",
            "  adding: content/so-vits-svc/dataset/44k/kiritan/000006.wav (deflated 7%)\n",
            "  adding: content/so-vits-svc/dataset/44k/kiritan/000050.wav.soft.pt (deflated 8%)\n",
            "  adding: content/so-vits-svc/dataset/44k/kiritan/000037.wav.soft.pt (deflated 8%)\n",
            "  adding: content/so-vits-svc/dataset/44k/kiritan/000023.wav (deflated 7%)\n",
            "  adding: content/so-vits-svc/dataset/44k/kiritan/000025.wav.soft.pt (deflated 8%)\n",
            "  adding: content/so-vits-svc/dataset/44k/kiritan/000000.wav.soft.pt (deflated 8%)\n",
            "  adding: content/so-vits-svc/dataset/44k/kiritan/000028.wav.f0.npy (deflated 31%)\n",
            "  adding: content/so-vits-svc/dataset/44k/kiritan/000049.wav.f0.npy (deflated 34%)\n",
            "  adding: content/so-vits-svc/dataset/44k/kiritan/000021.wav.f0.npy (deflated 15%)\n",
            "  adding: content/so-vits-svc/dataset/44k/kiritan/000037.wav.f0.npy (deflated 22%)\n",
            "  adding: content/so-vits-svc/dataset/44k/kiritan/000042.wav.soft.pt (deflated 8%)\n",
            "  adding: content/so-vits-svc/dataset/44k/kiritan/000012.wav (deflated 12%)\n",
            "  adding: content/so-vits-svc/dataset/44k/kiritan/000031.wav (deflated 7%)\n",
            "  adding: content/so-vits-svc/dataset/44k/kiritan/000005.wav.soft.pt (deflated 8%)\n",
            "  adding: content/so-vits-svc/dataset/44k/kiritan/000025.wav (deflated 7%)\n",
            "  adding: content/so-vits-svc/dataset/44k/kiritan/000016.wav (deflated 7%)\n",
            "  adding: content/so-vits-svc/dataset/44k/kiritan/000015.wav.soft.pt (deflated 8%)\n",
            "  adding: content/so-vits-svc/dataset/44k/kiritan/000048.wav.f0.npy (deflated 23%)\n",
            "  adding: content/so-vits-svc/dataset/44k/kiritan/000003.wav (deflated 7%)\n",
            "  adding: content/so-vits-svc/dataset/44k/kiritan/000014.wav (deflated 6%)\n",
            "  adding: content/so-vits-svc/dataset/44k/kiritan/000047.wav.soft.pt (deflated 8%)\n",
            "  adding: content/so-vits-svc/dataset/44k/kiritan/000041.wav.soft.pt (deflated 8%)\n",
            "  adding: content/so-vits-svc/dataset/44k/kiritan/000037.wav (deflated 7%)\n",
            "  adding: content/so-vits-svc/dataset/44k/kiritan/000040.wav.f0.npy (deflated 30%)\n",
            "  adding: content/so-vits-svc/dataset/44k/kiritan/000022.wav.f0.npy (deflated 37%)\n",
            "  adding: content/so-vits-svc/dataset/44k/kiritan/000036.wav.soft.pt (deflated 8%)\n",
            "  adding: content/so-vits-svc/dataset/44k/kiritan/000041.wav (deflated 10%)\n",
            "  adding: content/so-vits-svc/dataset/44k/kiritan/000030.wav.soft.pt (deflated 8%)\n",
            "  adding: content/so-vits-svc/dataset/44k/kiritan/000042.wav (deflated 5%)\n",
            "  adding: content/so-vits-svc/dataset/44k/kiritan/000001.wav.soft.pt (deflated 8%)\n",
            "  adding: content/so-vits-svc/dataset/44k/kiritan/000020.wav.f0.npy (deflated 30%)\n",
            "  adding: content/so-vits-svc/dataset/44k/kiritan/000018.wav.f0.npy (deflated 18%)\n",
            "  adding: content/so-vits-svc/dataset/44k/kiritan/000049.wav (deflated 8%)\n",
            "  adding: content/so-vits-svc/dataset/44k/kiritan/000036.wav (deflated 5%)\n"
          ]
        }
      ]
    },
    {
      "cell_type": "code",
      "source": [
        "#@title 已经预处理过数据集的话，就可以跳过预处理部分 直接从云盘解压处理过的数据 以及配置文件\n",
        "#@markdown 从谷歌云盘加载预处理过的数据集，文件夹名和你备份的时候输入的一样\n",
        "back_up_name = \"kiritan_preprocessed\"  #@param {type:\"string\"}\n",
        "BACK_UP_DATASET_PATH = \"/content/drive/MyDrive/dataset/\" + back_up_name\n",
        "!unzip {BACK_UP_DATASET_PATH}/dataset.zip -d /\n",
        "!cp {BACK_UP_DATASET_PATH}/config.json /content/so-vits-svc/configs/config.json \n",
        "!cp {BACK_UP_DATASET_PATH}/val.txt filelists/val.txt\n",
        "!cp {BACK_UP_DATASET_PATH}/train.txt filelists/train.txt\n",
        "\n",
        "\n",
        "# 拷贝云盘上保存的记录点\n",
        "# !cp /content/drive/MyDrive/G_800.pth logs/48k/\n",
        "# !cp /content/drive/MyDrive/D_800.pth logs/48k/"
      ],
      "metadata": {
        "id": "P2G6v_6zblWK",
        "colab": {
          "base_uri": "https://localhost:8080/"
        },
        "outputId": "c88d971a-644f-4bfd-d433-426aa5296939"
      },
      "execution_count": null,
      "outputs": [
        {
          "output_type": "stream",
          "name": "stdout",
          "text": [
            "Archive:  /content/drive/MyDrive/dataset/kiritan_preprocessed/dataset.zip\n",
            "replace /content/so-vits-svc/dataset/44k/kiritan/000049.wav.soft.pt? [y]es, [n]o, [A]ll, [N]one, [r]ename: A\n",
            "  inflating: /content/so-vits-svc/dataset/44k/kiritan/000049.wav.soft.pt  \n",
            "  inflating: /content/so-vits-svc/dataset/44k/kiritan/000020.wav.soft.pt  \n",
            "  inflating: /content/so-vits-svc/dataset/44k/kiritan/000027.wav.f0.npy  \n",
            "  inflating: /content/so-vits-svc/dataset/44k/kiritan/000007.wav.f0.npy  \n",
            "  inflating: /content/so-vits-svc/dataset/44k/kiritan/000026.wav.f0.npy  \n",
            "  inflating: /content/so-vits-svc/dataset/44k/kiritan/000000.wav  \n",
            "  inflating: /content/so-vits-svc/dataset/44k/kiritan/000039.wav.soft.pt  \n",
            "  inflating: /content/so-vits-svc/dataset/44k/kiritan/000035.wav.soft.pt  \n",
            "  inflating: /content/so-vits-svc/dataset/44k/kiritan/000024.wav.soft.pt  \n",
            "  inflating: /content/so-vits-svc/dataset/44k/kiritan/000004.wav  \n",
            "  inflating: /content/so-vits-svc/dataset/44k/kiritan/000029.wav  \n",
            "  inflating: /content/so-vits-svc/dataset/44k/kiritan/000032.wav.soft.pt  \n",
            "  inflating: /content/so-vits-svc/dataset/44k/kiritan/000011.wav.f0.npy  \n",
            "  inflating: /content/so-vits-svc/dataset/44k/kiritan/000013.wav.f0.npy  \n",
            "  inflating: /content/so-vits-svc/dataset/44k/kiritan/000024.wav.f0.npy  \n",
            "  inflating: /content/so-vits-svc/dataset/44k/kiritan/000032.wav.f0.npy  \n",
            "  inflating: /content/so-vits-svc/dataset/44k/kiritan/000019.wav.soft.pt  \n",
            "  inflating: /content/so-vits-svc/dataset/44k/kiritan/000033.wav  \n",
            "  inflating: /content/so-vits-svc/dataset/44k/kiritan/000026.wav.soft.pt  \n",
            "  inflating: /content/so-vits-svc/dataset/44k/kiritan/000048.wav  \n",
            "  inflating: /content/so-vits-svc/dataset/44k/kiritan/000009.wav  \n",
            "  inflating: /content/so-vits-svc/dataset/44k/kiritan/000044.wav.f0.npy  \n",
            "  inflating: /content/so-vits-svc/dataset/44k/kiritan/000050.wav  \n",
            "  inflating: /content/so-vits-svc/dataset/44k/kiritan/000034.wav.soft.pt  \n",
            "  inflating: /content/so-vits-svc/dataset/44k/kiritan/000026.wav  \n",
            "  inflating: /content/so-vits-svc/dataset/44k/kiritan/000008.wav  \n",
            "  inflating: /content/so-vits-svc/dataset/44k/kiritan/000021.wav  \n",
            "  inflating: /content/so-vits-svc/dataset/44k/kiritan/000050.wav.f0.npy  \n",
            "  inflating: /content/so-vits-svc/dataset/44k/kiritan/000018.wav.soft.pt  \n",
            "  inflating: /content/so-vits-svc/dataset/44k/kiritan/000046.wav.soft.pt  \n",
            "  inflating: /content/so-vits-svc/dataset/44k/kiritan/000034.wav.f0.npy  \n",
            "  inflating: /content/so-vits-svc/dataset/44k/kiritan/000041.wav.f0.npy  \n",
            "  inflating: /content/so-vits-svc/dataset/44k/kiritan/000029.wav.f0.npy  \n",
            "  inflating: /content/so-vits-svc/dataset/44k/kiritan/000025.wav.f0.npy  \n",
            "  inflating: /content/so-vits-svc/dataset/44k/kiritan/000045.wav  \n",
            "  inflating: /content/so-vits-svc/dataset/44k/kiritan/000043.wav  \n",
            "  inflating: /content/so-vits-svc/dataset/44k/kiritan/000006.wav.soft.pt  \n",
            "  inflating: /content/so-vits-svc/dataset/44k/kiritan/000040.wav  \n",
            "  inflating: /content/so-vits-svc/dataset/44k/kiritan/000038.wav.f0.npy  \n",
            "  inflating: /content/so-vits-svc/dataset/44k/kiritan/000023.wav.f0.npy  \n",
            "  inflating: /content/so-vits-svc/dataset/44k/kiritan/000038.wav  \n",
            "  inflating: /content/so-vits-svc/dataset/44k/kiritan/000003.wav.soft.pt  \n",
            "  inflating: /content/so-vits-svc/dataset/44k/kiritan/000007.wav  \n",
            "  inflating: /content/so-vits-svc/dataset/44k/kiritan/000046.wav  \n",
            "  inflating: /content/so-vits-svc/dataset/44k/kiritan/000030.wav  \n",
            "  inflating: /content/so-vits-svc/dataset/44k/kiritan/000010.wav.soft.pt  \n",
            "  inflating: /content/so-vits-svc/dataset/44k/kiritan/000005.wav  \n",
            "  inflating: /content/so-vits-svc/dataset/44k/kiritan/000010.wav.f0.npy  \n",
            "  inflating: /content/so-vits-svc/dataset/44k/kiritan/000011.wav  \n",
            "  inflating: /content/so-vits-svc/dataset/44k/kiritan/000017.wav.f0.npy  \n",
            "  inflating: /content/so-vits-svc/dataset/44k/kiritan/000015.wav.f0.npy  \n",
            "  inflating: /content/so-vits-svc/dataset/44k/kiritan/000001.wav.f0.npy  \n",
            "  inflating: /content/so-vits-svc/dataset/44k/kiritan/000031.wav.soft.pt  \n",
            "  inflating: /content/so-vits-svc/dataset/44k/kiritan/000002.wav.f0.npy  \n",
            "  inflating: /content/so-vits-svc/dataset/44k/kiritan/000024.wav  \n",
            "  inflating: /content/so-vits-svc/dataset/44k/kiritan/000033.wav.f0.npy  \n",
            "  inflating: /content/so-vits-svc/dataset/44k/kiritan/000045.wav.soft.pt  \n",
            "  inflating: /content/so-vits-svc/dataset/44k/kiritan/000027.wav.soft.pt  \n",
            "  inflating: /content/so-vits-svc/dataset/44k/kiritan/000020.wav  \n",
            "  inflating: /content/so-vits-svc/dataset/44k/kiritan/000017.wav  \n",
            "  inflating: /content/so-vits-svc/dataset/44k/kiritan/000000.wav.f0.npy  \n",
            "  inflating: /content/so-vits-svc/dataset/44k/kiritan/000013.wav.soft.pt  \n",
            "  inflating: /content/so-vits-svc/dataset/44k/kiritan/000007.wav.soft.pt  \n",
            "  inflating: /content/so-vits-svc/dataset/44k/kiritan/000044.wav.soft.pt  \n",
            "  inflating: /content/so-vits-svc/dataset/44k/kiritan/000003.wav.f0.npy  \n",
            "  inflating: /content/so-vits-svc/dataset/44k/kiritan/000011.wav.soft.pt  \n",
            "  inflating: /content/so-vits-svc/dataset/44k/kiritan/000031.wav.f0.npy  \n",
            "  inflating: /content/so-vits-svc/dataset/44k/kiritan/000036.wav.f0.npy  \n",
            "  inflating: /content/so-vits-svc/dataset/44k/kiritan/000022.wav  \n",
            "  inflating: /content/so-vits-svc/dataset/44k/kiritan/000016.wav.soft.pt  \n",
            "  inflating: /content/so-vits-svc/dataset/44k/kiritan/000018.wav  \n",
            "  inflating: /content/so-vits-svc/dataset/44k/kiritan/000038.wav.soft.pt  \n",
            "  inflating: /content/so-vits-svc/dataset/44k/kiritan/000044.wav  \n",
            "  inflating: /content/so-vits-svc/dataset/44k/kiritan/000039.wav  \n",
            "  inflating: /content/so-vits-svc/dataset/44k/kiritan/000002.wav  \n",
            "  inflating: /content/so-vits-svc/dataset/44k/kiritan/000028.wav.soft.pt  \n",
            "  inflating: /content/so-vits-svc/dataset/44k/kiritan/000047.wav.f0.npy  \n",
            "  inflating: /content/so-vits-svc/dataset/44k/kiritan/000015.wav  \n",
            "  inflating: /content/so-vits-svc/dataset/44k/kiritan/000009.wav.f0.npy  \n",
            "  inflating: /content/so-vits-svc/dataset/44k/kiritan/000005.wav.f0.npy  \n",
            "  inflating: /content/so-vits-svc/dataset/44k/kiritan/000030.wav.f0.npy  \n",
            "  inflating: /content/so-vits-svc/dataset/44k/kiritan/000027.wav  \n",
            "  inflating: /content/so-vits-svc/dataset/44k/kiritan/000035.wav.f0.npy  \n",
            "  inflating: /content/so-vits-svc/dataset/44k/kiritan/000034.wav  \n",
            "  inflating: /content/so-vits-svc/dataset/44k/kiritan/000047.wav  \n",
            "  inflating: /content/so-vits-svc/dataset/44k/kiritan/000004.wav.soft.pt  \n",
            "  inflating: /content/so-vits-svc/dataset/44k/kiritan/000012.wav.f0.npy  \n",
            "  inflating: /content/so-vits-svc/dataset/44k/kiritan/000017.wav.soft.pt  \n",
            "  inflating: /content/so-vits-svc/dataset/44k/kiritan/000028.wav  \n",
            "  inflating: /content/so-vits-svc/dataset/44k/kiritan/000008.wav.soft.pt  \n",
            "  inflating: /content/so-vits-svc/dataset/44k/kiritan/000012.wav.soft.pt  \n",
            "  inflating: /content/so-vits-svc/dataset/44k/kiritan/000019.wav  \n",
            "  inflating: /content/so-vits-svc/dataset/44k/kiritan/000039.wav.f0.npy  \n",
            "  inflating: /content/so-vits-svc/dataset/44k/kiritan/000040.wav.soft.pt  \n",
            "  inflating: /content/so-vits-svc/dataset/44k/kiritan/000043.wav.soft.pt  \n",
            "  inflating: /content/so-vits-svc/dataset/44k/kiritan/000029.wav.soft.pt  \n",
            "  inflating: /content/so-vits-svc/dataset/44k/kiritan/000019.wav.f0.npy  \n",
            "  inflating: /content/so-vits-svc/dataset/44k/kiritan/000013.wav  \n",
            "  inflating: /content/so-vits-svc/dataset/44k/kiritan/000021.wav.soft.pt  \n",
            "  inflating: /content/so-vits-svc/dataset/44k/kiritan/000009.wav.soft.pt  \n",
            "  inflating: /content/so-vits-svc/dataset/44k/kiritan/000032.wav  \n",
            "  inflating: /content/so-vits-svc/dataset/44k/kiritan/000008.wav.f0.npy  \n",
            "  inflating: /content/so-vits-svc/dataset/44k/kiritan/000033.wav.soft.pt  \n",
            "  inflating: /content/so-vits-svc/dataset/44k/kiritan/000016.wav.f0.npy  \n",
            "  inflating: /content/so-vits-svc/dataset/44k/kiritan/000022.wav.soft.pt  \n",
            "  inflating: /content/so-vits-svc/dataset/44k/kiritan/000045.wav.f0.npy  \n",
            "  inflating: /content/so-vits-svc/dataset/44k/kiritan/000004.wav.f0.npy  \n",
            "  inflating: /content/so-vits-svc/dataset/44k/kiritan/000023.wav.soft.pt  \n",
            "  inflating: /content/so-vits-svc/dataset/44k/kiritan/000043.wav.f0.npy  \n",
            "  inflating: /content/so-vits-svc/dataset/44k/kiritan/000014.wav.f0.npy  \n",
            "  inflating: /content/so-vits-svc/dataset/44k/kiritan/000042.wav.f0.npy  \n",
            "  inflating: /content/so-vits-svc/dataset/44k/kiritan/000002.wav.soft.pt  \n",
            "  inflating: /content/so-vits-svc/dataset/44k/kiritan/000006.wav.f0.npy  \n",
            "  inflating: /content/so-vits-svc/dataset/44k/kiritan/000014.wav.soft.pt  \n",
            "  inflating: /content/so-vits-svc/dataset/44k/kiritan/000035.wav  \n",
            "  inflating: /content/so-vits-svc/dataset/44k/kiritan/000010.wav  \n",
            "  inflating: /content/so-vits-svc/dataset/44k/kiritan/000001.wav  \n",
            "  inflating: /content/so-vits-svc/dataset/44k/kiritan/000048.wav.soft.pt  \n",
            "  inflating: /content/so-vits-svc/dataset/44k/kiritan/000046.wav.f0.npy  \n",
            "  inflating: /content/so-vits-svc/dataset/44k/kiritan/000006.wav  \n",
            "  inflating: /content/so-vits-svc/dataset/44k/kiritan/000050.wav.soft.pt  \n",
            "  inflating: /content/so-vits-svc/dataset/44k/kiritan/000037.wav.soft.pt  \n",
            "  inflating: /content/so-vits-svc/dataset/44k/kiritan/000023.wav  \n",
            "  inflating: /content/so-vits-svc/dataset/44k/kiritan/000025.wav.soft.pt  \n",
            "  inflating: /content/so-vits-svc/dataset/44k/kiritan/000000.wav.soft.pt  \n",
            "  inflating: /content/so-vits-svc/dataset/44k/kiritan/000028.wav.f0.npy  \n",
            "  inflating: /content/so-vits-svc/dataset/44k/kiritan/000049.wav.f0.npy  \n",
            "  inflating: /content/so-vits-svc/dataset/44k/kiritan/000021.wav.f0.npy  \n",
            "  inflating: /content/so-vits-svc/dataset/44k/kiritan/000037.wav.f0.npy  \n",
            "  inflating: /content/so-vits-svc/dataset/44k/kiritan/000042.wav.soft.pt  \n",
            "  inflating: /content/so-vits-svc/dataset/44k/kiritan/000012.wav  \n",
            "  inflating: /content/so-vits-svc/dataset/44k/kiritan/000031.wav  \n",
            "  inflating: /content/so-vits-svc/dataset/44k/kiritan/000005.wav.soft.pt  \n",
            "  inflating: /content/so-vits-svc/dataset/44k/kiritan/000025.wav  \n",
            "  inflating: /content/so-vits-svc/dataset/44k/kiritan/000016.wav  \n",
            "  inflating: /content/so-vits-svc/dataset/44k/kiritan/000015.wav.soft.pt  \n",
            "  inflating: /content/so-vits-svc/dataset/44k/kiritan/000048.wav.f0.npy  \n",
            "  inflating: /content/so-vits-svc/dataset/44k/kiritan/000003.wav  \n",
            "  inflating: /content/so-vits-svc/dataset/44k/kiritan/000014.wav  \n",
            "  inflating: /content/so-vits-svc/dataset/44k/kiritan/000047.wav.soft.pt  \n",
            "  inflating: /content/so-vits-svc/dataset/44k/kiritan/000041.wav.soft.pt  \n",
            "  inflating: /content/so-vits-svc/dataset/44k/kiritan/000037.wav  \n",
            "  inflating: /content/so-vits-svc/dataset/44k/kiritan/000040.wav.f0.npy  \n",
            "  inflating: /content/so-vits-svc/dataset/44k/kiritan/000022.wav.f0.npy  \n",
            "  inflating: /content/so-vits-svc/dataset/44k/kiritan/000036.wav.soft.pt  \n",
            "  inflating: /content/so-vits-svc/dataset/44k/kiritan/000041.wav  \n",
            "  inflating: /content/so-vits-svc/dataset/44k/kiritan/000030.wav.soft.pt  \n",
            "  inflating: /content/so-vits-svc/dataset/44k/kiritan/000042.wav  \n",
            "  inflating: /content/so-vits-svc/dataset/44k/kiritan/000001.wav.soft.pt  \n",
            "  inflating: /content/so-vits-svc/dataset/44k/kiritan/000020.wav.f0.npy  \n",
            "  inflating: /content/so-vits-svc/dataset/44k/kiritan/000018.wav.f0.npy  \n",
            "  inflating: /content/so-vits-svc/dataset/44k/kiritan/000049.wav  \n",
            "  inflating: /content/so-vits-svc/dataset/44k/kiritan/000036.wav  \n"
          ]
        }
      ]
    },
    {
      "cell_type": "markdown",
      "source": [
        "# 训练"
      ],
      "metadata": {
        "id": "ENoH-pShel7w"
      }
    },
    {
      "cell_type": "code",
      "source": [
        "#@title  选择是否将训练后的模型保存到谷歌云盘 和 是否使用预模型\n",
        "\n",
        "#@markdown **将训练后的模型文件保存到谷歌云盘，勾选后，恢复训练时也需要勾选并执行**\n",
        "Save_to_drive = True #@param {type:\"boolean\"}\n",
        "if Save_to_drive:\n",
        "  !rm -rf /content/so-vits-svc/logs/44k\n",
        "  !mkdir -p /content/drive/MyDrive/44k\n",
        "  !ln -s /content/drive/MyDrive/44k /content/so-vits-svc/logs/44k\n",
        "\n",
        "#@markdown **首次训练下载预模型 之后继续训练则使用自己保存的记录点，无需再下载**\n",
        "\n",
        "#@markdown **使用预模型，下面打钩自动下载并启用**\n",
        "pre_pth = True #@param {type:\"boolean\"}\n",
        "if pre_pth:\n",
        "  #!wget -P logs/44k/ https://huggingface.co/innnky/sovits_pretrained/resolve/main/sovits4/G_0.pth\n",
        "  #!wget -P logs/44k/ https://huggingface.co/innnky/sovits_pretrained/resolve/main/sovits4/D_0.pth\n",
        "\n",
        "  !wget -P logs/44k/ https://huggingface.co/datasets/seq2193/sovits_pretrained/resolve/main/44k/G_0.pth\n",
        "  !wget -P logs/44k/ https://huggingface.co/datasets/seq2193/sovits_pretrained/resolve/main/44k/D_0.pth\n"
      ],
      "metadata": {
        "id": "l8J2ubh9KV5J",
        "colab": {
          "base_uri": "https://localhost:8080/"
        },
        "outputId": "bcd0e672-1992-4753-e569-f09f0fe0b70a"
      },
      "execution_count": null,
      "outputs": [
        {
          "output_type": "stream",
          "name": "stdout",
          "text": [
            "--2023-02-20 06:05:15--  https://huggingface.co/innnky/sovits_pretrained/resolve/main/sovits4/G_0.pth\n",
            "Resolving huggingface.co (huggingface.co)... 3.231.67.228, 54.235.118.239, 2600:1f18:147f:e800:671:b733:ecf3:a585, ...\n",
            "Connecting to huggingface.co (huggingface.co)|3.231.67.228|:443... connected.\n",
            "HTTP request sent, awaiting response... 302 Found\n",
            "Location: https://cdn-lfs.huggingface.co/repos/b8/68/b8680b5490e63bf5f140618c3ee2e5ccd0731956a87ab87a228c08398cd8e03c/20a327c54e5731bed377bd38404bc32ab98e66a1b2777b0af4cc034d4d6914b0?response-content-disposition=attachment%3B+filename*%3DUTF-8%27%27G_0.pth%3B+filename%3D%22G_0.pth%22%3B&Expires=1677132316&Policy=eyJTdGF0ZW1lbnQiOlt7IlJlc291cmNlIjoiaHR0cHM6Ly9jZG4tbGZzLmh1Z2dpbmdmYWNlLmNvL3JlcG9zL2I4LzY4L2I4NjgwYjU0OTBlNjNiZjVmMTQwNjE4YzNlZTJlNWNjZDA3MzE5NTZhODdhYjg3YTIyOGMwODM5OGNkOGUwM2MvMjBhMzI3YzU0ZTU3MzFiZWQzNzdiZDM4NDA0YmMzMmFiOThlNjZhMWIyNzc3YjBhZjRjYzAzNGQ0ZDY5MTRiMD9yZXNwb25zZS1jb250ZW50LWRpc3Bvc2l0aW9uPSoiLCJDb25kaXRpb24iOnsiRGF0ZUxlc3NUaGFuIjp7IkFXUzpFcG9jaFRpbWUiOjE2NzcxMzIzMTZ9fX1dfQ__&Signature=FWCLTmpip3TlTHtzH2Ok0t9-HLEKT1aKmqkx81UCHDHFibSex1H3JNKjadTGYcaF7kd6xA0dd75DgHONgWx8xvK90sQfcnrUYL11m5cP3Ugc-8v3CeRsZiOL4N-fAB9A4im5crCqodWart9BEOBuq5%7EuKjhEwQXs4TZxaxckGkfGj23SGOKrT6a1kZN12rW1Gx3Y-p1JMAVWpYsQGT-%7EvVH%7E2ib7IgaR0N2ys%7ETfsKSPDTnVehK23I7uAdroYNzmjztWSeECdcZOZu8PIanvEEUsSUdZivCowCZTUKaVhiOQsUfZYWKxn1c-aM%7EI9h9kmoTdS8q%7EX%7EHzeIs3G5%7Epwg__&Key-Pair-Id=KVTP0A1DKRTAX [following]\n",
            "--2023-02-20 06:05:15--  https://cdn-lfs.huggingface.co/repos/b8/68/b8680b5490e63bf5f140618c3ee2e5ccd0731956a87ab87a228c08398cd8e03c/20a327c54e5731bed377bd38404bc32ab98e66a1b2777b0af4cc034d4d6914b0?response-content-disposition=attachment%3B+filename*%3DUTF-8%27%27G_0.pth%3B+filename%3D%22G_0.pth%22%3B&Expires=1677132316&Policy=eyJTdGF0ZW1lbnQiOlt7IlJlc291cmNlIjoiaHR0cHM6Ly9jZG4tbGZzLmh1Z2dpbmdmYWNlLmNvL3JlcG9zL2I4LzY4L2I4NjgwYjU0OTBlNjNiZjVmMTQwNjE4YzNlZTJlNWNjZDA3MzE5NTZhODdhYjg3YTIyOGMwODM5OGNkOGUwM2MvMjBhMzI3YzU0ZTU3MzFiZWQzNzdiZDM4NDA0YmMzMmFiOThlNjZhMWIyNzc3YjBhZjRjYzAzNGQ0ZDY5MTRiMD9yZXNwb25zZS1jb250ZW50LWRpc3Bvc2l0aW9uPSoiLCJDb25kaXRpb24iOnsiRGF0ZUxlc3NUaGFuIjp7IkFXUzpFcG9jaFRpbWUiOjE2NzcxMzIzMTZ9fX1dfQ__&Signature=FWCLTmpip3TlTHtzH2Ok0t9-HLEKT1aKmqkx81UCHDHFibSex1H3JNKjadTGYcaF7kd6xA0dd75DgHONgWx8xvK90sQfcnrUYL11m5cP3Ugc-8v3CeRsZiOL4N-fAB9A4im5crCqodWart9BEOBuq5%7EuKjhEwQXs4TZxaxckGkfGj23SGOKrT6a1kZN12rW1Gx3Y-p1JMAVWpYsQGT-%7EvVH%7E2ib7IgaR0N2ys%7ETfsKSPDTnVehK23I7uAdroYNzmjztWSeECdcZOZu8PIanvEEUsSUdZivCowCZTUKaVhiOQsUfZYWKxn1c-aM%7EI9h9kmoTdS8q%7EX%7EHzeIs3G5%7Epwg__&Key-Pair-Id=KVTP0A1DKRTAX\n",
            "Resolving cdn-lfs.huggingface.co (cdn-lfs.huggingface.co)... 108.156.60.109, 108.156.60.37, 108.156.60.44, ...\n",
            "Connecting to cdn-lfs.huggingface.co (cdn-lfs.huggingface.co)|108.156.60.109|:443... connected.\n",
            "HTTP request sent, awaiting response... 200 OK\n",
            "Length: 180628517 (172M) [binary/octet-stream]\n",
            "Saving to: ‘logs/44k/G_0.pth’\n",
            "\n",
            "G_0.pth             100%[===================>] 172.26M  40.4MB/s    in 4.9s    \n",
            "\n",
            "2023-02-20 06:05:21 (35.2 MB/s) - ‘logs/44k/G_0.pth’ saved [180628517/180628517]\n",
            "\n",
            "--2023-02-20 06:05:21--  https://huggingface.co/innnky/sovits_pretrained/resolve/main/sovits4/D_0.pth\n",
            "Resolving huggingface.co (huggingface.co)... 54.235.118.239, 3.231.67.228, 2600:1f18:147f:e800:671:b733:ecf3:a585, ...\n",
            "Connecting to huggingface.co (huggingface.co)|54.235.118.239|:443... connected.\n",
            "HTTP request sent, awaiting response... 302 Found\n",
            "Location: https://cdn-lfs.huggingface.co/repos/b8/68/b8680b5490e63bf5f140618c3ee2e5ccd0731956a87ab87a228c08398cd8e03c/635be5c3409aaf3eec4135a1f5a771595683f3a6461ffc5bdea43441e50269a9?response-content-disposition=attachment%3B+filename*%3DUTF-8%27%27D_0.pth%3B+filename%3D%22D_0.pth%22%3B&Expires=1677132322&Policy=eyJTdGF0ZW1lbnQiOlt7IlJlc291cmNlIjoiaHR0cHM6Ly9jZG4tbGZzLmh1Z2dpbmdmYWNlLmNvL3JlcG9zL2I4LzY4L2I4NjgwYjU0OTBlNjNiZjVmMTQwNjE4YzNlZTJlNWNjZDA3MzE5NTZhODdhYjg3YTIyOGMwODM5OGNkOGUwM2MvNjM1YmU1YzM0MDlhYWYzZWVjNDEzNWExZjVhNzcxNTk1NjgzZjNhNjQ2MWZmYzViZGVhNDM0NDFlNTAyNjlhOT9yZXNwb25zZS1jb250ZW50LWRpc3Bvc2l0aW9uPSoiLCJDb25kaXRpb24iOnsiRGF0ZUxlc3NUaGFuIjp7IkFXUzpFcG9jaFRpbWUiOjE2NzcxMzIzMjJ9fX1dfQ__&Signature=S-cUN5PTNSPrOsIx5bMOiIl07rbAQIvOX88WaHQzEgvzMV38L-0yJadRe6YtjWon0SC7yTw8U1spcrEWx311GmIK5lDR4V8Ln%7EPO5Wqt6FTtZbOkJLxYeD0Q31Gl8uvMw0cJZAeL93EznZKpLpixtxKG0gRwISoul1nItV496JtJJ3qdiwyO9uir22JjowErQmd5KWwVSvRidTwJaSUCf0QY9iT%7EfNJLhuWmTAW6fT5m4D9hvbwFNaZA9MNOgP7RP0Qp6s0nxu-xszoS9EHbsqkwL9-xNSIq4qf9stpyt3xOqUSapUN0885AIdxSXQX8dJxgVFq9M-YI0ISoQ89EIA__&Key-Pair-Id=KVTP0A1DKRTAX [following]\n",
            "--2023-02-20 06:05:21--  https://cdn-lfs.huggingface.co/repos/b8/68/b8680b5490e63bf5f140618c3ee2e5ccd0731956a87ab87a228c08398cd8e03c/635be5c3409aaf3eec4135a1f5a771595683f3a6461ffc5bdea43441e50269a9?response-content-disposition=attachment%3B+filename*%3DUTF-8%27%27D_0.pth%3B+filename%3D%22D_0.pth%22%3B&Expires=1677132322&Policy=eyJTdGF0ZW1lbnQiOlt7IlJlc291cmNlIjoiaHR0cHM6Ly9jZG4tbGZzLmh1Z2dpbmdmYWNlLmNvL3JlcG9zL2I4LzY4L2I4NjgwYjU0OTBlNjNiZjVmMTQwNjE4YzNlZTJlNWNjZDA3MzE5NTZhODdhYjg3YTIyOGMwODM5OGNkOGUwM2MvNjM1YmU1YzM0MDlhYWYzZWVjNDEzNWExZjVhNzcxNTk1NjgzZjNhNjQ2MWZmYzViZGVhNDM0NDFlNTAyNjlhOT9yZXNwb25zZS1jb250ZW50LWRpc3Bvc2l0aW9uPSoiLCJDb25kaXRpb24iOnsiRGF0ZUxlc3NUaGFuIjp7IkFXUzpFcG9jaFRpbWUiOjE2NzcxMzIzMjJ9fX1dfQ__&Signature=S-cUN5PTNSPrOsIx5bMOiIl07rbAQIvOX88WaHQzEgvzMV38L-0yJadRe6YtjWon0SC7yTw8U1spcrEWx311GmIK5lDR4V8Ln%7EPO5Wqt6FTtZbOkJLxYeD0Q31Gl8uvMw0cJZAeL93EznZKpLpixtxKG0gRwISoul1nItV496JtJJ3qdiwyO9uir22JjowErQmd5KWwVSvRidTwJaSUCf0QY9iT%7EfNJLhuWmTAW6fT5m4D9hvbwFNaZA9MNOgP7RP0Qp6s0nxu-xszoS9EHbsqkwL9-xNSIq4qf9stpyt3xOqUSapUN0885AIdxSXQX8dJxgVFq9M-YI0ISoQ89EIA__&Key-Pair-Id=KVTP0A1DKRTAX\n",
            "Resolving cdn-lfs.huggingface.co (cdn-lfs.huggingface.co)... 108.156.60.109, 108.156.60.37, 108.156.60.44, ...\n",
            "Connecting to cdn-lfs.huggingface.co (cdn-lfs.huggingface.co)|108.156.60.109|:443... connected.\n",
            "HTTP request sent, awaiting response... 200 OK\n",
            "Length: 187018591 (178M) [binary/octet-stream]\n",
            "Saving to: ‘logs/44k/D_0.pth’\n",
            "\n",
            "D_0.pth             100%[===================>] 178.35M  40.8MB/s    in 5.0s    \n",
            "\n",
            "2023-02-20 06:05:27 (35.9 MB/s) - ‘logs/44k/D_0.pth’ saved [187018591/187018591]\n",
            "\n"
          ]
        }
      ]
    },
    {
      "cell_type": "code",
      "source": [
        "#@title  开始训练\n",
        "\n",
        "#@markdown **开始训练**\n",
        "\n",
        "#@markdown **启用tensorboard可视化数据**\n",
        "tensorboard_on = True #@param {type:\"boolean\"}\n",
        "if tensorboard_on:\n",
        "  %load_ext tensorboard\n",
        "  %tensorboard --logdir logs/44k\n",
        "\n",
        "!python train.py -c configs/config.json -m 44k\n"
      ],
      "metadata": {
        "id": "-hEFFTCfZf57"
      },
      "execution_count": null,
      "outputs": []
    },
    {
      "cell_type": "code",
      "source": [
        "#@title 聚类音色泄漏控制 (选用)\n",
        "\n",
        "#@markdown # 聚类音色泄漏控制 Train cluster model (Optional)\n",
        "\n",
        "#@markdown #### 詳情參見 [README.md#cluster-based-timbre-leakage-control](https://github.com/svc-develop-team/so-vits-svc#cluster-based-timbre-leakage-control)\n",
        "\n",
        "#@markdown 执行python cluster/train_cluster.py ，模型的输出会在 logs/44k/kmeans_10000.pt\n",
        "\n",
        "!python cluster/train_cluster.py"
      ],
      "metadata": {
        "id": "nVJkDOVFassu"
      },
      "execution_count": null,
      "outputs": []
    },
    {
      "cell_type": "code",
      "source": [
        "#@title 手动将训练后的模型文件备份到谷歌云盘\n",
        "#@markdown 需要自己查看/content/so-vits-svc/logs/44k/文件夹下模型的文件名，手动修改下方命令末尾的文件名\n",
        "!mv /content/so-vits-svc/logs/44k/G_1000.pth /content/drive/MyDrive\n",
        "!mv /content/so-vits-svc/logs/44k/D_1000.pth /content/drive/MyDrive"
      ],
      "metadata": {
        "id": "KiNCWprSPlKH",
        "cellView": "form"
      },
      "execution_count": null,
      "outputs": []
    },
    {
      "cell_type": "markdown",
      "source": [
        "## 加载歌手模型"
      ],
      "metadata": {
        "id": "gYZr24dsv4bz"
      }
    },
    {
      "cell_type": "code",
      "source": [
        "#@title 从huggingface下载模型\n",
        "pth_link=\"https://huggingface.co/spaces/innnky/nyaru4.0/resolve/main/logs/44k/nyaru_G_126400.pth\" #@param{type:\"string\"}\n",
        "config_link=\"https://huggingface.co/spaces/innnky/nyaru4.0/resolve/main/configs/nyaru.json\" #@param{type:\"string\"}\n",
        "cluster_model_path=\"https://huggingface.co/spaces/innnky/nyaru4.0/resolve/main/logs/44k/kmeans_10000.pt\" #@param{type:\"string\"}\n",
        "!wget -P /content/so-vits-svc/logs/44k {pth_link}\n",
        "!wget -O /content/so-vits-svc/configs/config.json  {config_link}\n",
        "!wget -P /content/so-vits-svc/logs/44k {cluster_model_path}"
      ],
      "metadata": {
        "id": "aQkDUD2gv7ii"
      },
      "execution_count": null,
      "outputs": []
    },
    {
      "cell_type": "markdown",
      "source": [
        "# 推理"
      ],
      "metadata": {
        "id": "oCnbX-OT897k"
      }
    },
    {
      "cell_type": "code",
      "source": [
        "#@markdown 下载示例音频合成 風になる\n",
        "!gdown --id 1d-npX0KOYW5AE2fh0z1mkX3nFYvyrRii -O /content/so-vits-svc/raw/風になる.wav"
      ],
      "metadata": {
        "id": "DAFy43VPkTyM"
      },
      "execution_count": null,
      "outputs": []
    },
    {
      "cell_type": "code",
      "source": [
        "#@title 上传.wav音频文件 \n",
        "import os\n",
        "from google.colab import files\n",
        "\n",
        "save_dir = \"/content/so-vits-svc/raw\"\n",
        "if not os.path.exists(save_dir):\n",
        "    os.makedirs(save_dir)\n",
        "\n",
        "uploaded = files.upload()\n",
        "file_name = list(uploaded.keys())[0]\n",
        "file_path = os.path.join(save_dir, file_name)\n",
        "with open(file_path, \"wb\") as f:\n",
        "    f.write(uploaded[file_name])\n",
        "print(f\"File saved at: {file_path}\")\n"
      ],
      "metadata": {
        "id": "RLn0mxtCegv1"
      },
      "execution_count": null,
      "outputs": []
    },
    {
      "cell_type": "code",
      "source": [
        "#@title 合成音频（推理）\n",
        "#@markdown 需要将音频上传到so-vits-svc/raw 文件夹下, 然后设置模型路径、配置文件路径、合成的音频名称\n",
        "\n",
        "!python inference_main.py -m \"logs/44k/G_1600.pth\" -c \"configs/config.json\" -n \"君の知らない物語-src.wav\" -s kiritan\n"
      ],
      "metadata": {
        "colab": {
          "base_uri": "https://localhost:8080/"
        },
        "id": "dYnKuKTIj3z1",
        "outputId": "f1d27b7b-1fb6-4aca-ea1b-15e5b52ced57"
      },
      "execution_count": null,
      "outputs": [
        {
          "output_type": "stream",
          "name": "stdout",
          "text": [
            "load model(s) from hubert/checkpoint_best_legacy_500.pt\n",
            "INFO:fairseq.tasks.text_to_speech:Please install tensorboardX: pip install tensorboardX\n",
            "INFO:fairseq.tasks.hubert_pretraining:current directory is /content/so-vits-svc\n",
            "INFO:fairseq.tasks.hubert_pretraining:HubertPretrainingTask Config {'_name': 'hubert_pretraining', 'data': 'metadata', 'fine_tuning': False, 'labels': ['km'], 'label_dir': 'label', 'label_rate': 50.0, 'sample_rate': 16000, 'normalize': False, 'enable_padding': False, 'max_keep_size': None, 'max_sample_size': 250000, 'min_sample_size': 32000, 'single_target': False, 'random_crop': True, 'pad_audio': False}\n",
            "INFO:fairseq.models.hubert.hubert:HubertModel Config: {'_name': 'hubert', 'label_rate': 50.0, 'extractor_mode': default, 'encoder_layers': 12, 'encoder_embed_dim': 768, 'encoder_ffn_embed_dim': 3072, 'encoder_attention_heads': 12, 'activation_fn': gelu, 'layer_type': transformer, 'dropout': 0.1, 'attention_dropout': 0.1, 'activation_dropout': 0.0, 'encoder_layerdrop': 0.05, 'dropout_input': 0.1, 'dropout_features': 0.1, 'final_dim': 256, 'untie_final_proj': True, 'layer_norm_first': False, 'conv_feature_layers': '[(512,10,5)] + [(512,3,2)] * 4 + [(512,2,2)] * 2', 'conv_bias': False, 'logit_temp': 0.1, 'target_glu': False, 'feature_grad_mult': 0.1, 'mask_length': 10, 'mask_prob': 0.8, 'mask_selection': static, 'mask_other': 0.0, 'no_mask_overlap': False, 'mask_min_space': 1, 'mask_channel_length': 10, 'mask_channel_prob': 0.0, 'mask_channel_selection': static, 'mask_channel_other': 0.0, 'no_mask_channel_overlap': False, 'mask_channel_min_space': 1, 'conv_pos': 128, 'conv_pos_groups': 16, 'latent_temp': [2.0, 0.5, 0.999995], 'skip_masked': False, 'skip_nomask': False, 'checkpoint_activations': False, 'required_seq_len_multiple': 2, 'depthwise_conv_kernel_size': 31, 'attn_type': '', 'pos_enc_type': 'abs', 'fp16': False}\n",
            "load \n",
            "INFO:root:Loaded checkpoint 'logs/44k/G_1600.pth' (iteration 201)\n",
            "#=====segment start, 11.598s======\n",
            "vits use time:0.93231201171875\n",
            "\u001b[0m"
          ]
        }
      ]
    },
    {
      "cell_type": "code",
      "source": [
        "#@title 合成音频（推理）修改\n",
        "#@markdown 需要将音频上传到so-vits-svc/raw 文件夹下, 然后设置模型路径、配置文件路径、合成的音频名称\n",
        "model_path = \"logs/44k/G_2000.pth\" #@param {type:\"string\"}\n",
        "config_path = \"configs/config.json\" #@param {type:\"string\"}\n",
        "clean_names = \"\\u98A8\\u306B\\u306A\\u308B.wav\" #@param {type:\"string\"}\n",
        "spk_list = \"kumi\" #@param {type:\"string\"}\n",
        "trans = \"0\"  #@param {type:\"string\"}\n",
        "#@markdown **聚类音色泄漏控制**\n",
        "\n",
        "#@markdown 0为完全不使用聚类，1为只使用聚类，通常设置0.5即可\n",
        "cluster_infer_ratio = \"0\"  #@param {type:\"string\"}\n",
        "slice_db = \"-40\"  #@param {type:\"string\"}\n",
        "wav_format = \"flac\"  #@param {type:\"string\"}\n",
        "wav_output = \"/content/so-vits-svc/results/\" + clean_names + \"_\" + trans + \"key\" + \"_\" + spk_list + \".\" + wav_format\n",
        "\n",
        "!python inference_main.py -m {model_path} -c {config_path} -n \"{clean_names}\" -t {trans} -s {spk_list}  -cr {cluster_infer_ratio} -sd {slice_db} -wf {wav_format}\n",
        "\n",
        "#@markdown 如果您不想從此處下載，請取消選中此選項。\n",
        "download_after_inference = True  #@param {type:\"boolean\"}\n",
        "\n",
        "if download_after_inference:\n",
        "  from google.colab import files\n",
        "  files.download(wav_output)"
      ],
      "metadata": {
        "id": "UIsP6nm7fXrs"
      },
      "execution_count": null,
      "outputs": []
    }
  ]
}