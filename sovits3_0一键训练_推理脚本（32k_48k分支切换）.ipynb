{
  "nbformat": 4,
  "nbformat_minor": 0,
  "metadata": {
    "colab": {
      "provenance": [],
      "include_colab_link": true
    },
    "kernelspec": {
      "name": "python3",
      "display_name": "Python 3"
    },
    "language_info": {
      "name": "python"
    },
    "accelerator": "GPU",
    "gpuClass": "standard"
  },
  "cells": [
    {
      "cell_type": "markdown",
      "metadata": {
        "id": "view-in-github",
        "colab_type": "text"
      },
      "source": [
        "<a href=\"https://colab.research.google.com/github/seq2193/so-vits-svc-colab/blob/main/sovits3_0%E4%B8%80%E9%94%AE%E8%AE%AD%E7%BB%83_%E6%8E%A8%E7%90%86%E8%84%9A%E6%9C%AC%EF%BC%8832k_48k%E5%88%86%E6%94%AF%E5%88%87%E6%8D%A2%EF%BC%89.ipynb\" target=\"_parent\"><img src=\"https://colab.research.google.com/assets/colab-badge.svg\" alt=\"Open In Colab\"/></a>"
      ]
    },
    {
      "cell_type": "markdown",
      "source": [
        "初始项目来源：https://github.com/innnky/so-vits-svc\n",
        "\n",
        "修改日期：2023年3月13日\n",
        "\n",
        "原始Colab 链接<a target=\"_blank\" href=\"https://colab.research.google.com/drive/1_-gh9i-wCPNlRZw6pYF-9UufetcVrGBX?usp=sharing\">\n",
        "  <img src=\"https://colab.research.google.com/assets/colab-badge.svg\" alt=\"Open In Colab\"/>\n",
        "</a>"
      ],
      "metadata": {
        "id": "-VC5t3jg67DB"
      }
    },
    {
      "cell_type": "code",
      "source": [
        "# 查看显卡\n",
        "!nvidia-smi"
      ],
      "metadata": {
        "id": "0gQcIZ8RsOkn"
      },
      "execution_count": null,
      "outputs": []
    },
    {
      "cell_type": "code",
      "source": [
        "#@title 克隆的github仓库\n",
        "#@markdown ##选择要克隆的github仓库分支\n",
        "\n",
        "Clone = \"32k\" #@param [\"32k\",\"48k\"]\n",
        "if Clone == \"32k\":\n",
        "  !git clone https://github.com/svc-develop-team/so-vits-svc -b 3.0-32k\n",
        "elif Clone == \"48k\":\n",
        "  !git clone https://github.com/svc-develop-team/so-vits-svc -b 3.0-48k"
      ],
      "metadata": {
        "id": "CRTGzBYM4_pB"
      },
      "execution_count": null,
      "outputs": []
    },
    {
      "cell_type": "code",
      "source": [
        "#@title 安装依赖\n",
        "%cd /content/so-vits-svc\n",
        "!pip install pyworld praat-parselmouth scikit-maad gradio\n",
        "!pip install --upgrade gdown"
      ],
      "metadata": {
        "id": "zXBLkXxL4T1O"
      },
      "execution_count": null,
      "outputs": []
    },
    {
      "cell_type": "code",
      "source": [
        "#@title 下载必要模型文件\n",
        "!wget -P hubert/ https://github.com/bshall/hubert/releases/download/v0.1/hubert-soft-0d54a1f4.pt"
      ],
      "metadata": {
        "id": "pCqf3W0d6ify"
      },
      "execution_count": null,
      "outputs": []
    },
    {
      "cell_type": "markdown",
      "source": [
        "# 数据集预处理"
      ],
      "metadata": {
        "id": "k1qadJBFehMo"
      }
    },
    {
      "cell_type": "code",
      "source": [
        "#@title 加载Google云端硬盘\n",
        "#@markdown 加载Google云端硬盘\n",
        "from google.colab import drive\n",
        "drive.mount('/content/drive')"
      ],
      "metadata": {
        "colab": {
          "base_uri": "https://localhost:8080/"
        },
        "cellView": "form",
        "id": "wmUkpUmfn_Hs",
        "outputId": "bf5e54eb-1032-47a3-e7eb-37a4c60b8d28"
      },
      "execution_count": null,
      "outputs": [
        {
          "output_type": "stream",
          "name": "stdout",
          "text": [
            "Mounted at /content/drive\n"
          ]
        }
      ]
    },
    {
      "cell_type": "markdown",
      "source": [
        "该处理脚本可以一次性预处理多个说话人，并且生成多说话人filelists以及对应的配置文件\n",
        "\n",
        "只需要将你的数据集按照以下文件结构放到dataset_raw目录下\n",
        "\n",
        "\n",
        "```\n",
        "dataset_raw\n",
        "├───speaker0\n",
        "│   ├───xxx1-xxx1.wav\n",
        "│   ├───...\n",
        "│   └───Lxx-0xx8.wav\n",
        "└───speaker1\n",
        "    ├───xx2-0xxx2.wav\n",
        "    ├───...\n",
        "    └───xxx7-xxx007.wav\n",
        "\n",
        "```\n",
        "\n",
        "\n"
      ],
      "metadata": {
        "id": "kBlju6Q3lSM6"
      }
    },
    {
      "cell_type": "code",
      "source": [
        "#@title 从谷歌云盘加载打包好的数据集进行预处理\n",
        "#@markdown **sovits3.0的数据集不再需要特定的文件结构，将数据集的所有wav文件放在同一个文件夹下压缩为zip后上传至谷歌云盘即可，该处理脚本可以一次性预处理多个数据集，处理多个数据集时请依次解压每一个数据集**\n",
        "\n",
        "#@markdown 数据集名称（**人物的英文/拼音名**，与建数据文件夹时统一；不带zip。）\n",
        "DATASETNAME = \"test\"  #@param {type:\"string\"}\n",
        "#@markdown 压缩包路径（谷歌盘路径，传到dataset的就不改这个，没有dataset文件夹就新建一个）\n",
        "ZIP_PATH = \"/content/drive/MyDrive/dataset/\"  #@param {type:\"string\"}\n",
        "ZIP_NAME = ZIP_PATH + DATASETNAME\n",
        "\n",
        "!unzip -d /content/so-vits-svc/dataset_raw {ZIP_NAME}.zip"
      ],
      "metadata": {
        "cellView": "form",
        "id": "U05CXlAipvJR"
      },
      "execution_count": null,
      "outputs": []
    },
    {
      "cell_type": "code",
      "source": [
        "#@title 重采样到32k/48k，根据你选择克隆的github仓库分支自动确定\n",
        "!python resample.py"
      ],
      "metadata": {
        "id": "_ThKTzYs5CfL",
        "colab": {
          "base_uri": "https://localhost:8080/"
        },
        "outputId": "91eaff32-9591-44fd-af8e-bf7e764c3909"
      },
      "execution_count": null,
      "outputs": [
        {
          "output_type": "stream",
          "name": "stdout",
          "text": [
            "./dataset_raw/test\n",
            "53it [00:11,  4.56it/s]\n"
          ]
        }
      ]
    },
    {
      "cell_type": "code",
      "source": [
        "#@title 划分训练集 生成配置文件\n",
        "!python preprocess_flist_config.py"
      ],
      "metadata": {
        "id": "svITReeL5N8K",
        "cellView": "form"
      },
      "execution_count": null,
      "outputs": []
    },
    {
      "cell_type": "code",
      "source": [
        "#@title 生成hubert和f0\n",
        "!python preprocess_hubert_f0.py"
      ],
      "metadata": {
        "id": "xHUXMi836DMe",
        "cellView": "form"
      },
      "execution_count": null,
      "outputs": []
    },
    {
      "cell_type": "code",
      "source": [
        "#@title 至此 数据集预处理制作完毕，将数据集和相关文件保存到谷歌云盘的dataset文件夹下，方便下次训练使用\n",
        "#压缩dataset文件夹\n",
        "!zip -r dataset.zip /content/so-vits-svc/dataset\n",
        "#@markdown 自定义备份到谷歌云盘的dataset文件夹下的数据集文件夹名，避免混淆\n",
        "dataset_name_drive = \"32ktest_dataset\"  #@param {type:\"string\"}\n",
        "DATASET_PATH_DRIVE = \"/content/drive/MyDrive/dataset/\" + dataset_name_drive\n",
        "!mkdir -p {DATASET_PATH_DRIVE}\n",
        "\n",
        "!cp /content/so-vits-svc/dataset.zip \"{DATASET_PATH_DRIVE}\"\n",
        "!cp configs/config.json \"{DATASET_PATH_DRIVE}\"\n",
        "!cp filelists/train.txt \"{DATASET_PATH_DRIVE}\"\n",
        "!cp filelists/val.txt \"{DATASET_PATH_DRIVE}\""
      ],
      "metadata": {
        "id": "Wo4OTmTAUXgj",
        "cellView": "form"
      },
      "execution_count": null,
      "outputs": []
    },
    {
      "cell_type": "code",
      "source": [
        "#@title 已经预处理过数据集的话，就可以跳过预处理部分 直接从云盘解压处理过的数据 以及配置文件\n",
        "#@markdown 从谷歌云盘加载预处理过的数据集，文件夹名和你备份的时候输入的一样\n",
        "back_up_name = \"three_dataset\"  #@param {type:\"string\"}\n",
        "BACK_UP_DATASET_PATH = \"/content/drive/MyDrive/dataset/\" + back_up_name\n",
        "!unzip {BACK_UP_DATASET_PATH}/dataset.zip -d /\n",
        "!cp {BACK_UP_DATASET_PATH}/config.json /content/so-vits-svc/configs/config.json \n",
        "!cp {BACK_UP_DATASET_PATH}/val.txt filelists/val.txt\n",
        "!cp {BACK_UP_DATASET_PATH}/train.txt filelists/train.txt\n",
        "\n",
        "\n",
        "# 拷贝云盘上保存的记录点\n",
        "# !cp /content/drive/MyDrive/G_800.pth logs/48k/\n",
        "# !cp /content/drive/MyDrive/D_800.pth logs/48k/"
      ],
      "metadata": {
        "id": "P2G6v_6zblWK",
        "cellView": "form"
      },
      "execution_count": null,
      "outputs": []
    },
    {
      "cell_type": "markdown",
      "source": [
        "# 训练"
      ],
      "metadata": {
        "id": "ENoH-pShel7w"
      }
    },
    {
      "cell_type": "code",
      "source": [
        "#@title  选择是否将训练后的模型保存到谷歌云盘 和 是否使用预模型\n",
        "#@markdown ##选择你克隆的github仓库的分支和你最开始选的保持一致\n",
        "Clone = \"32k\" #@param [\"32k\",\"48k\"]\n",
        "\n",
        "#@markdown **将训练后的模型文件保存到谷歌云盘，勾选后，恢复训练时也需要勾选并执行**\n",
        "Save_to_drive = True #@param {type:\"boolean\"}\n",
        "if Save_to_drive:\n",
        "  !rm -rf /content/so-vits-svc/logs/\"{Clone}\"\n",
        "  !mkdir -p /content/drive/MyDrive/\"{Clone}\"\n",
        "  !ln -s /content/drive/MyDrive/\"{Clone}\" /content/so-vits-svc/logs/\"{Clone}\"\n",
        "\n",
        "#@markdown **首次训练下载预模型 之后继续训练则使用自己保存的记录点，无需再下载**\n",
        "\n",
        "#@markdown **使用预模型，下面打钩自动下载并启用**\n",
        "pre_pth = True #@param {type:\"boolean\"}\n",
        "if pre_pth:\n",
        "  #!wget -P logs/\"{Clone}\"/ https://huggingface.co/innnky/sovits_pretrained/resolve/main/G_0.pth\n",
        "  #!wget -P logs/\"{Clone}\"/ https://huggingface.co/innnky/sovits_pretrained/resolve/main/D_0.pth\n",
        "\n",
        "  !wget -P logs/\"{Clone}\"/ https://huggingface.co/datasets/seq2193/sovits_pretrained/resolve/main/so-vits-svc-3.0/G_0.pth\n",
        "  !wget -P logs/\"{Clone}\"/ https://huggingface.co/datasets/seq2193/sovits_pretrained/resolve/main/so-vits-svc-3.0/D_0.pth\n"
      ],
      "metadata": {
        "id": "l8J2ubh9KV5J"
      },
      "execution_count": null,
      "outputs": []
    },
    {
      "cell_type": "code",
      "source": [
        "#@title  开始训练\n",
        "#@markdown ##选择你克隆的github仓库的分支和你最开始选的保持一致\n",
        "Clone = \"32k\" #@param [\"32k\",\"48k\"]\n",
        "\n",
        "#@markdown **开始训练**\n",
        "\n",
        "#@markdown **启用tensorboard可视化数据**\n",
        "tensorboard_on = True #@param {type:\"boolean\"}\n",
        "if tensorboard_on:\n",
        "  %load_ext tensorboard\n",
        "  %tensorboard --logdir logs/\"{Clone}\"\n",
        "\n",
        "!python train.py -c configs/config.json -m \"{Clone}\"\n"
      ],
      "metadata": {
        "id": "-hEFFTCfZf57"
      },
      "execution_count": null,
      "outputs": []
    },
    {
      "cell_type": "code",
      "source": [
        "#@title 手动将训练后的模型文件备份到谷歌云盘\n",
        "#@markdown 需要自己查看/content/so-vits-svc/logs/48k/文件夹下模型的文件名，手动修改下方命令末尾的文件名\n",
        "!mv /content/so-vits-svc/logs/48k/G_1000.pth /content/drive/MyDrive\n",
        "!mv /content/so-vits-svc/logs/48k/D_1000.pth /content/drive/MyDrive"
      ],
      "metadata": {
        "id": "KiNCWprSPlKH"
      },
      "execution_count": null,
      "outputs": []
    },
    {
      "cell_type": "markdown",
      "source": [
        "## 加载歌手模型"
      ],
      "metadata": {
        "id": "joCLP3a5NSx0"
      }
    },
    {
      "cell_type": "code",
      "source": [
        "#@title 从huggingface下载模型\n",
        "#@markdown ##选择你克隆的github仓库的分支和你最开始训练的保持一致\n",
        "Clone = \"32k\" #@param [\"32k\",\"48k\"]\n",
        "pth_link=\"https://huggingface.co/xxxx/so-vits-svc-acg-models/resolve/main/32k-tsubaki/G_20000.pth\" #@param{type:\"string\"}\n",
        "config_link=\"https://huggingface.co/xxxx/so-vits-svc-acg-models/resolve/main/32k-tsubaki/config.json\" #@param{type:\"string\"}\n",
        "!wget -P /content/so-vits-svc/logs/{Clone} {pth_link}\n",
        "!wget -O /content/so-vits-svc/configs/config.json  {config_link}"
      ],
      "metadata": {
        "id": "acXg60K_NVek"
      },
      "execution_count": null,
      "outputs": []
    },
    {
      "cell_type": "markdown",
      "source": [
        "# 推理"
      ],
      "metadata": {
        "id": "65GW8fUhBL2o"
      }
    },
    {
      "cell_type": "code",
      "source": [
        "#@markdown 下载示例音频合成 風になる\n",
        "!gdown --id 1d-npX0KOYW5AE2fh0z1mkX3nFYvyrRii -O /content/so-vits-svc/raw/風になる.wav"
      ],
      "metadata": {
        "id": "QQTIwURJCN7P"
      },
      "execution_count": null,
      "outputs": []
    },
    {
      "cell_type": "code",
      "source": [
        "#@title 上传.wav音频文件 \n",
        "import os\n",
        "from google.colab import files\n",
        "\n",
        "save_dir = \"/content/so-vits-svc/raw\"\n",
        "if not os.path.exists(save_dir):\n",
        "    os.makedirs(save_dir)\n",
        "\n",
        "uploaded = files.upload()\n",
        "file_name = list(uploaded.keys())[0]\n",
        "file_path = os.path.join(save_dir, file_name)\n",
        "with open(file_path, \"wb\") as f:\n",
        "    f.write(uploaded[file_name])\n",
        "print(f\"File saved at: {file_path}\")"
      ],
      "metadata": {
        "id": "qCu6LYZ7CIqv"
      },
      "execution_count": null,
      "outputs": []
    },
    {
      "cell_type": "code",
      "source": [
        "#手动修改 inference_main.py 推理\n",
        "from google.colab import files\n",
        "files.view('inference_main.py')"
      ],
      "metadata": {
        "id": "07KUr4xxB9fI"
      },
      "execution_count": null,
      "outputs": []
    },
    {
      "cell_type": "code",
      "source": [
        "#@title 一键推理 inference_main.py 配置文件并合成\n",
        "#@markdown 17行更改model_path为你自己训练的最新模型记录点 例如：NyaruTaffy.pth\n",
        "model_path = \"logs/32k/G_31000.pth\" #@param {type:\"string\"}\n",
        "#@markdown 23行clean_names 写待转换的音频名称，不含扩展名\n",
        "clean_names = \"\\u98A8\\u306B\\u306A\\u308B\" #@param {type:\"string\"}\n",
        "#@markdown 24行trans 填写变调半音数量 \n",
        "trans = \"0\" #@param {type:\"string\"}\n",
        "#@markdown 25行spk_list 填写合成的说话人名称 例如：猫雷 nyaru，塔菲 taffy\n",
        "spk_list = \"teto\" #@param {type:\"string\"}\n",
        "#@markdown 26行默认-40，嘈杂的音频可以-30，干声保留呼吸可以-50\n",
        "slice_db = \"-40\" #@param {type:\"string\"}\n",
        "#@markdown 27行音频输出格式:默认flac 或 wav\n",
        "wav_format = \"flac\" #@param {type:\"string\"}\n",
        "\n",
        "\n",
        "!sed -i -r 's|(model_path =)(\\s+)(.+)|\\1\\2\"{model_path}\"|g' /content/so-vits-svc/inference_main.py\n",
        "!sed -i -r 's|(clean_names =)(\\s+)(.+)|\\1\\2[\"{clean_names}\"]|g' /content/so-vits-svc/inference_main.py\n",
        "!sed -i -r 's|(trans =)(\\s+)(.+)|\\1\\2[{trans}]|g' /content/so-vits-svc/inference_main.py\n",
        "!sed -i -r 's|(spk_list =)(\\s+)(.+)|\\1\\2[\"{spk_list}\"]|g' /content/so-vits-svc/inference_main.py\n",
        "!sed -i -r 's|(slice_db =)(\\s+)(.+)|\\1\\2{slice_db}|g' /content/so-vits-svc/inference_main.py\n",
        "!sed -i -r 's|(wav_format =)(\\s+)(.+)|\\1\\2\"{wav_format}\"|g' /content/so-vits-svc/inference_main.py\n",
        "#启动推理\n",
        "!python /content/so-vits-svc/inference_main.py"
      ],
      "metadata": {
        "id": "D3h7Y6-hBIMf"
      },
      "execution_count": null,
      "outputs": []
    },
    {
      "cell_type": "code",
      "source": [
        "#@title raw目录音频切片器（遇到CUDA错误时需要切片再推理）\n",
        "!pip install pydub\n",
        "import os\n",
        "from pydub import AudioSegment\n",
        "\n",
        "# 定义输入和输出目录\n",
        "input_dir = \"/content/diff-svc/raw\"\n",
        "output_dir = \"/content/diff-svc/raw\"\n",
        "\n",
        "# 遍历输入目录中的所有音频文件\n",
        "for file_name in os.listdir(input_dir):\n",
        "    # 仅处理扩展名为 wav 的文件\n",
        "    if file_name.endswith(\".wav\"):\n",
        "        # 加载音频文件\n",
        "        audio = AudioSegment.from_file(os.path.join(input_dir, file_name), format=\"wav\")\n",
        "        \n",
        "        # 计算每60秒的毫秒数\n",
        "        segment_length_ms = 60 * 1000\n",
        "        \n",
        "        # 切割音频文件\n",
        "        segments = []\n",
        "        for start_time in range(0, len(audio), segment_length_ms):\n",
        "            end_time = start_time + segment_length_ms\n",
        "            segment = audio[start_time:end_time]\n",
        "            segments.append(segment)\n",
        "        \n",
        "        # 保存切割后的音频文件到输出目录\n",
        "        for i, segment in enumerate(segments):\n",
        "            output_file_name = f\"{os.path.splitext(file_name)[0]}_{i}.wav\"\n",
        "            output_path = os.path.join(output_dir, output_file_name)\n",
        "            segment.export(output_path, format=\"wav\")\n"
      ],
      "metadata": {
        "id": "yncviEgSDH9H"
      },
      "execution_count": null,
      "outputs": []
    },
    {
      "cell_type": "code",
      "source": [
        "#@title 精简模型 \n",
        "#@markdown ##选择你克隆的github仓库的分支和你最开始选的保持一致\n",
        "Clone = \"32k\" #@param [\"32k\",\"48k\"]\n",
        "\n",
        "import torch ,os\n",
        "logdir = \"/content/so-vits-svc/logs/\"\n",
        "logdir = (f\"{logdir}/{Clone}\")\n",
        "\n",
        "new_pth_dir = os.path.join(logdir)\n",
        "\n",
        "#@markdown 模型名，数字是最新的模型steps\n",
        "\n",
        "new_model_name = \"G_20000.pth\"  # @param {type:\"string\"}\n",
        "checkpoint_dict = torch.load(f\"{new_pth_dir}/{new_model_name}\")\n",
        "iteration = checkpoint_dict['iteration']\n",
        "learning_rate = checkpoint_dict['learning_rate']\n",
        "optimizer = checkpoint_dict['optimizer']\n",
        "saved_state_dict = checkpoint_dict['model']\n",
        "print(iteration)\n",
        "#@markdown 输出xxx_epoch.pth；此模型**仅供合成使用**，去除训练信息、体积约为1/3，**无法训练使用**\n",
        "torch.save({'model': saved_state_dict,\n",
        "  'iteration': None,\n",
        "  'optimizer': None,\n",
        "  'learning_rate': None}, f'{new_pth_dir}/{iteration}_epochs.pth')"
      ],
      "metadata": {
        "id": "yUXJgA7QYba4"
      },
      "execution_count": null,
      "outputs": []
    }
  ]
}