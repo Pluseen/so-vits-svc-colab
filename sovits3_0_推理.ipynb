{
  "nbformat": 4,
  "nbformat_minor": 0,
  "metadata": {
    "colab": {
      "provenance": [],
      "collapsed_sections": [
        "Prv7-sfsjP8t",
        "zWdQAIXKTn7w"
      ],
      "authorship_tag": "ABX9TyMTePGuxxtJPcyUiwO/9wT7",
      "include_colab_link": true
    },
    "kernelspec": {
      "name": "python3",
      "display_name": "Python 3"
    },
    "language_info": {
      "name": "python"
    },
    "accelerator": "GPU",
    "gpuClass": "standard"
  },
  "cells": [
    {
      "cell_type": "markdown",
      "metadata": {
        "id": "view-in-github",
        "colab_type": "text"
      },
      "source": [
        "<a href=\"https://colab.research.google.com/github/seq2193/so-vits-svc-colab/blob/main/sovits3_0_%E6%8E%A8%E7%90%86.ipynb\" target=\"_parent\"><img src=\"https://colab.research.google.com/assets/colab-badge.svg\" alt=\"Open In Colab\"/></a>"
      ]
    },
    {
      "cell_type": "markdown",
      "source": [
        "初始项目：https://github.com/innnky/so-vits-svc\n",
        "\n",
        "修改日期：2023年3月17日"
      ],
      "metadata": {
        "id": "N93qoed22ao0"
      }
    },
    {
      "cell_type": "code",
      "source": [
        "#@title #配置环境 & 安装依赖\n",
        "#@markdown ###选择要克隆的github仓库分支\n",
        "Clone = \"32khz\" #@param [\"32khz\", \"48khz\"]\n",
        "\n",
        "if Clone == \"32khz\":\n",
        "  !git clone https://github.com/svc-develop-team/so-vits-svc -b 3.0-32k\n",
        "  print('已选择32k')\n",
        "else:\n",
        "  !git clone https://github.com/svc-develop-team/so-vits-svc -b 3.0-48k\n",
        "  print('已选择48k')\n",
        "\n",
        "%cd /content/so-vits-svc\n",
        "!pip install -r requirements.txt\n",
        "!pip install pyworld praat-parselmouth scikit-maad gradio\n",
        "!pip install --upgrade gdown\n",
        "#下载必要模型文件\n",
        "!wget -P hubert/ https://github.com/bshall/hubert/releases/download/v0.1/hubert-soft-0d54a1f4.pt "
      ],
      "metadata": {
        "id": "azXN_bykfTkj"
      },
      "execution_count": null,
      "outputs": []
    },
    {
      "cell_type": "markdown",
      "source": [
        "## 加载歌手模型"
      ],
      "metadata": {
        "id": "nGe00sD6i0Ie"
      }
    },
    {
      "cell_type": "code",
      "source": [
        "#@title 加载Google云端硬盘\n",
        "#@markdown 加载Google云端硬盘\n",
        "from google.colab import drive\n",
        "drive.mount('/content/drive')"
      ],
      "metadata": {
        "id": "5uaTKzAa0YP7"
      },
      "execution_count": null,
      "outputs": []
    },
    {
      "cell_type": "code",
      "source": [
        "#@title 复制Google云端硬盘模型\n",
        "#@markdown 若使用，自行更改文件夹名、模型名\n",
        "model_path = '/content/drive/MyDrive/32k/G_22000.pth' #@param {type:\"string\"}\n",
        "config_path = \"/content/drive/MyDrive/32k/config.json\" #@param {type:\"string\"}\n",
        "\n",
        "!cp {model_path} /content/so-vits-svc/logs/44k\n",
        "!cp {config_path} /content/so-vits-svc/configs"
      ],
      "metadata": {
        "id": "2hETBeMz0aV1"
      },
      "execution_count": null,
      "outputs": []
    },
    {
      "cell_type": "code",
      "source": [
        "#@title 外链其他 gdown 模型\n",
        "#训练中歌手模型 \"spk:teto\" 962條 utau英日文声库\n",
        "!gdown xxxxxxxxxxxxxxxxxxxxxxxxxxxxxxxxx  -O /content/so-vits-svc/logs/32k/G_31000.pth\n",
        "!gdown xxxxxxxxxxxxxxxxxxxxxxxxxxxxxxxxx  -O /content/so-vits-svc/configs/config.json"
      ],
      "metadata": {
        "id": "f49Q8ngW2Iie"
      },
      "execution_count": null,
      "outputs": []
    },
    {
      "cell_type": "code",
      "source": [
        "#@title 从huggingface下载模型\n",
        "#@markdown ##选择你克隆的github仓库的分支和你最开始训练的保持一致\n",
        "Clone = \"32k\" #@param [\"32k\",\"48k\"]\n",
        "pth_link=\"https://huggingface.co/Itoifi/so-vits-svc-acg-models/resolve/main/32k-tsubaki/G_20000.pth\" #@param{type:\"string\"}\n",
        "config_link=\"https://huggingface.co/Itoifi/so-vits-svc-acg-models/resolve/main/32k-tsubaki/config.json\" #@param{type:\"string\"}\n",
        "!wget -P /content/so-vits-svc/logs/{Clone} {pth_link}\n",
        "!wget -O /content/so-vits-svc/configs/config.json  {config_link}"
      ],
      "metadata": {
        "id": "50Dt_YOstSgw"
      },
      "execution_count": null,
      "outputs": []
    },
    {
      "cell_type": "markdown",
      "source": [
        "# 声音转换"
      ],
      "metadata": {
        "id": "RmgjR4uFDpeN"
      }
    },
    {
      "cell_type": "code",
      "source": [
        "#@title 上传.wav音频文件 \n",
        "#@markdown \n",
        "import os\n",
        "from google.colab import files\n",
        "\n",
        "save_dir = \"/content/so-vits-svc/raw\"\n",
        "if not os.path.exists(save_dir):\n",
        "    os.makedirs(save_dir)\n",
        "\n",
        "uploaded = files.upload()\n",
        "file_name = list(uploaded.keys())[0]\n",
        "file_path = os.path.join(save_dir, file_name)\n",
        "with open(file_path, \"wb\") as f:\n",
        "    f.write(uploaded[file_name])\n",
        "print(f\"File saved at: {file_path}\")"
      ],
      "metadata": {
        "id": "J9X55DnsJsPI",
        "cellView": "form"
      },
      "execution_count": null,
      "outputs": []
    },
    {
      "cell_type": "code",
      "source": [
        "#@markdown 下载示例音频合成 風になる\n",
        "!gdown --id 14-OrWnNm6JBB6tJ7NV55N6T4kNyilDVD -O \"/content/so-vits-svc/raw/風になる-短.wav\""
      ],
      "metadata": {
        "id": "nwcI6JEceHcY"
      },
      "execution_count": null,
      "outputs": []
    },
    {
      "cell_type": "code",
      "source": [
        "#@title 从Dropbox下载Vocal WAV\n",
        "#@markdown Share_Link 中 www 改成dl 并且.wav后面删除 ?dl=0\n",
        "wav_link=\"https://dl.dropbox.com/s/mh5yfihdmk1cnri/1_07.%20%E3%83%A4%E3%82%AD%E3%83%A2%E3%83%81_%28Vocals%29.wav\" #@param{type:\"string\"}\n",
        "\n",
        "!wget -P /content/so-vits-svc/raw {wav_link}"
      ],
      "metadata": {
        "id": "G6MzPZ0B4LyE"
      },
      "execution_count": null,
      "outputs": []
    },
    {
      "cell_type": "markdown",
      "source": [
        "# 推理"
      ],
      "metadata": {
        "id": "rCbOrybtfelN"
      }
    },
    {
      "cell_type": "code",
      "source": [
        "#@title 一键推理 inference_main.py 配置文件并合成\n",
        "#@markdown 17行更改model_path为你自己训练的最新模型记录点 例如：NyaruTaffy.pth\n",
        "model_path = \"logs/32k/G_22000.pth\" #@param {type:\"string\"}\n",
        "#@markdown 23行clean_names 写待转换的音频名称，不含扩展名\n",
        "clean_names = \"\\u30E4\\u30AD\\u30E2\\u30C1_(Vocals)\" #@param {type:\"string\"}\n",
        "#@markdown 24行trans 填写变调半音数量 \n",
        "trans = \"0\" #@param {type:\"string\"}\n",
        "#@markdown 25行spk_list 填写合成的说话人名称 例如：猫雷 nyaru，塔菲 taffy\n",
        "spk_list = \"teto\" #@param {type:\"string\"}\n",
        "#@markdown 26行默认-40，嘈杂的音频可以-30，干声保留呼吸可以-50\n",
        "slice_db = \"-40\" #@param {type:\"string\"}\n",
        "#@markdown 27行音频输出格式:默认flac 或 wav\n",
        "wav_format = \"wav\" #@param {type:\"string\"}\n",
        "\n",
        "\n",
        "!sed -i -r 's|(model_path =)(\\s+)(.+)|\\1\\2\"{model_path}\"|g' /content/so-vits-svc/inference_main.py\n",
        "!sed -i -r 's|(clean_names =)(\\s+)(.+)|\\1\\2[\"{clean_names}\"]|g' /content/so-vits-svc/inference_main.py\n",
        "!sed -i -r 's|(trans =)(\\s+)(.+)|\\1\\2[{trans}]|g' /content/so-vits-svc/inference_main.py\n",
        "!sed -i -r 's|(spk_list =)(\\s+)(.+)|\\1\\2[\"{spk_list}\"]|g' /content/so-vits-svc/inference_main.py\n",
        "!sed -i -r 's|(slice_db =)(\\s+)(.+)|\\1\\2{slice_db}|g' /content/so-vits-svc/inference_main.py\n",
        "!sed -i -r 's|(wav_format =)(\\s+)(.+)|\\1\\2\"{wav_format}\"|g' /content/so-vits-svc/inference_main.py\n",
        "#启动推理\n",
        "!python /content/so-vits-svc/inference_main.py"
      ],
      "metadata": {
        "id": "lHcyq1MwLySD"
      },
      "execution_count": null,
      "outputs": []
    },
    {
      "cell_type": "code",
      "source": [
        "#手动修改 inference_main.py\n",
        "from google.colab import files\n",
        "files.view('inference_main.py')"
      ],
      "metadata": {
        "colab": {
          "base_uri": "https://localhost:8080/",
          "height": 17
        },
        "id": "P5YiNOVbiW23",
        "outputId": "58e0f7b9-1388-4b34-9c97-ca74aedcca6d"
      },
      "execution_count": null,
      "outputs": [
        {
          "output_type": "display_data",
          "data": {
            "text/plain": [
              "<IPython.core.display.Javascript object>"
            ],
            "application/javascript": [
              "\n",
              "      ((filepath) => {{\n",
              "        if (!google.colab.kernel.accessAllowed) {{\n",
              "          return;\n",
              "        }}\n",
              "        google.colab.files.view(filepath);\n",
              "      }})(\"/content/so-vits-svc/inference_main.py\")"
            ]
          },
          "metadata": {}
        }
      ]
    },
    {
      "cell_type": "code",
      "source": [
        "#手动合成\n",
        "!python inference_main.py"
      ],
      "metadata": {
        "id": "qZeLgNGHfb4L"
      },
      "execution_count": null,
      "outputs": []
    },
    {
      "cell_type": "markdown",
      "source": [
        "# Gradio 推理（WebUI）"
      ],
      "metadata": {
        "id": "Prv7-sfsjP8t"
      }
    },
    {
      "cell_type": "code",
      "source": [
        "#@markdown 模型更名为model.pth，配置文件更名为config.json，并放置到checkpoints/spk 文件夹下\n",
        "\n",
        "#@markdown spk_list 说话人名称\n",
        "spk_list = \"teto\" #@param {type:\"string\"}\n",
        "pth_name = \"G_22000.pth\" #@param {type:\"string\"}\n",
        "%cd /content/so-vits-svc\n",
        "!mkdir -p checkpoints/{spk_list}\n",
        "\n",
        "!cp /content/so-vits-svc/logs/32k/{pth_name}  /content/so-vits-svc/checkpoints/{spk_list}\n",
        "!cp /content/so-vits-svc/configs/config.json  /content/so-vits-svc/checkpoints/{spk_list}\n",
        "!mv /content/so-vits-svc/checkpoints/{spk_list}/{pth_name}    /content/so-vits-svc/checkpoints/{spk_list}/model.pth"
      ],
      "metadata": {
        "id": "_hnE5H59Bx1Z"
      },
      "execution_count": null,
      "outputs": []
    },
    {
      "cell_type": "code",
      "source": [
        "#第47行修改才可以在colab使用 grVits.Vits.launch(share=True)\n",
        "!python sovits_gradio.py"
      ],
      "metadata": {
        "id": "uPH7e_MxjRsP"
      },
      "execution_count": null,
      "outputs": []
    },
    {
      "cell_type": "code",
      "source": [
        "pip install olefile"
      ],
      "metadata": {
        "id": "H_4eoVitBGGN"
      },
      "execution_count": null,
      "outputs": []
    },
    {
      "cell_type": "code",
      "source": [
        "#此程序码内容为 sovits_gradio.py\n",
        "from inference.infer_tool_grad import VitsSvc\n",
        "import gradio as gr\n",
        "import os\n",
        "\n",
        "class VitsGradio:\n",
        "    def __init__(self):\n",
        "        self.so = VitsSvc()\n",
        "        self.lspk = []\n",
        "        self.modelPaths = []\n",
        "        for root,dirs,files in os.walk(\"checkpoints\"):\n",
        "            for dir in dirs:\n",
        "                self.modelPaths.append(dir)\n",
        "        with gr.Blocks() as self.Vits:\n",
        "            with gr.Tab(\"VoiceConversion\"):\n",
        "                with gr.Row(visible=False) as self.VoiceConversion:\n",
        "                    with gr.Column():\n",
        "                        with gr.Row():\n",
        "                            with gr.Column():\n",
        "                                self.srcaudio = gr.Audio(label = \"输入音频\")\n",
        "                                self.btnVC = gr.Button(\"说话人转换\")\n",
        "                            with gr.Column():\n",
        "                                self.dsid = gr.Dropdown(label = \"目标角色\", choices = self.lspk)\n",
        "                                self.tran = gr.Slider(label = \"升降调\", maximum = 60, minimum = -60, step = 1, value = 0)\n",
        "                                self.th = gr.Slider(label = \"切片阈值\", maximum = 32767, minimum = -32768, step = 0.1, value = -40)\n",
        "                        with gr.Row():\n",
        "                            self.VCOutputs = gr.Audio()\n",
        "                self.btnVC.click(self.so.inference, inputs=[self.srcaudio,self.dsid,self.tran,self.th], outputs=[self.VCOutputs])\n",
        "            with gr.Tab(\"SelectModel\"):\n",
        "                with gr.Column():\n",
        "                    modelstrs = gr.Dropdown(label = \"模型\", choices = self.modelPaths, value = self.modelPaths[0], type = \"value\")\n",
        "                    devicestrs = gr.Dropdown(label = \"设备\", choices = [\"cpu\",\"cuda\"], value = \"cpu\", type = \"value\")\n",
        "                    btnMod = gr.Button(\"载入模型\")\n",
        "                    btnMod.click(self.loadModel, inputs=[modelstrs,devicestrs], outputs = [self.dsid,self.VoiceConversion])\n",
        "\n",
        "    def loadModel(self, path, device):\n",
        "        self.lspk = []\n",
        "        self.so.set_device(device)\n",
        "        self.so.loadCheckpoint(path)\n",
        "        for spk, sid in self.so.hps.spk.items():\n",
        "            self.lspk.append(spk)\n",
        "        VChange = gr.update(visible = True)\n",
        "        SDChange = gr.update(choices = self.lspk, value = self.lspk[0])\n",
        "        return [SDChange,VChange]\n",
        "\n",
        "grVits = VitsGradio()\n",
        "\n",
        "grVits.Vits.launch()"
      ],
      "metadata": {
        "colab": {
          "base_uri": "https://localhost:8080/",
          "height": 616
        },
        "id": "to3DQHD8Bh8I",
        "outputId": "18f48523-2fa6-4bde-df8a-708bbe6def0c"
      },
      "execution_count": null,
      "outputs": [
        {
          "output_type": "stream",
          "name": "stdout",
          "text": [
            "Colab notebook detected. To show errors in colab notebook, set debug=True in launch()\n",
            "Note: opening Chrome Inspector may crash demo inside Colab notebooks.\n",
            "\n",
            "To create a public link, set `share=True` in `launch()`.\n"
          ]
        },
        {
          "output_type": "display_data",
          "data": {
            "text/plain": [
              "<IPython.core.display.Javascript object>"
            ],
            "application/javascript": [
              "(async (port, path, width, height, cache, element) => {\n",
              "                        if (!google.colab.kernel.accessAllowed && !cache) {\n",
              "                            return;\n",
              "                        }\n",
              "                        element.appendChild(document.createTextNode(''));\n",
              "                        const url = await google.colab.kernel.proxyPort(port, {cache});\n",
              "\n",
              "                        const external_link = document.createElement('div');\n",
              "                        external_link.innerHTML = `\n",
              "                            <div style=\"font-family: monospace; margin-bottom: 0.5rem\">\n",
              "                                Running on <a href=${new URL(path, url).toString()} target=\"_blank\">\n",
              "                                    https://localhost:${port}${path}\n",
              "                                </a>\n",
              "                            </div>\n",
              "                        `;\n",
              "                        element.appendChild(external_link);\n",
              "\n",
              "                        const iframe = document.createElement('iframe');\n",
              "                        iframe.src = new URL(path, url).toString();\n",
              "                        iframe.height = height;\n",
              "                        iframe.allow = \"autoplay; camera; microphone; clipboard-read; clipboard-write;\"\n",
              "                        iframe.width = width;\n",
              "                        iframe.style.border = 0;\n",
              "                        element.appendChild(iframe);\n",
              "                    })(7862, \"/\", \"100%\", 500, false, window.element)"
            ]
          },
          "metadata": {}
        },
        {
          "output_type": "execute_result",
          "data": {
            "text/plain": []
          },
          "metadata": {},
          "execution_count": 13
        }
      ]
    },
    {
      "cell_type": "markdown",
      "source": [
        "# Onnx导出"
      ],
      "metadata": {
        "id": "zWdQAIXKTn7w"
      }
    },
    {
      "cell_type": "code",
      "source": [
        "#安装 onnx 依赖\n",
        "!pip install onnx onnxsim onnxruntime onnxoptimizer\n",
        "!git pull"
      ],
      "metadata": {
        "id": "zShkEHZCVQDP"
      },
      "execution_count": null,
      "outputs": []
    },
    {
      "cell_type": "code",
      "source": [
        "#@markdown 模型更名为model.pth，配置文件更名为config.json，并放置到checkpoints/spk 文件夹下\n",
        "\n",
        "#@markdown spk_list 说话人名称\n",
        "spk_list = \"teto\" #@param {type:\"string\"}\n",
        "pth_name = \"G_22000.pth\" #@param {type:\"string\"}\n",
        "%cd /content/so-vits-svc\n",
        "!mkdir -p checkpoints/{spk_list}\n",
        "\n",
        "!cp /content/so-vits-svc/logs/32k/{pth_name}  /content/so-vits-svc/checkpoints/{spk_list}\n",
        "!cp /content/so-vits-svc/configs/config.json  /content/so-vits-svc/checkpoints/{spk_list}\n",
        "!mv /content/so-vits-svc/checkpoints/{spk_list}/{pth_name}    /content/so-vits-svc/checkpoints/{spk_list}/model.pth"
      ],
      "metadata": {
        "id": "pFxDSPLKILh5"
      },
      "execution_count": null,
      "outputs": []
    },
    {
      "cell_type": "code",
      "source": [
        "#修改 onnx_export.py 文件第15行 path\n",
        "from google.colab import files\n",
        "files.view('onnx_export.py')"
      ],
      "metadata": {
        "colab": {
          "base_uri": "https://localhost:8080/",
          "height": 17
        },
        "id": "xsqZT4TDUDEX",
        "outputId": "844bf6d9-743b-45be-97af-1f033aae9225"
      },
      "execution_count": null,
      "outputs": [
        {
          "output_type": "display_data",
          "data": {
            "text/plain": [
              "<IPython.core.display.Javascript object>"
            ],
            "application/javascript": [
              "\n",
              "      ((filepath) => {{\n",
              "        if (!google.colab.kernel.accessAllowed) {{\n",
              "          return;\n",
              "        }}\n",
              "        google.colab.files.view(filepath);\n",
              "      }})(\"/content/so-vits-svc/onnx_export.py\")"
            ]
          },
          "metadata": {}
        }
      ]
    },
    {
      "cell_type": "code",
      "source": [
        "#@title 导出Onnx模型\n",
        "#运行 onnx_export.py\n",
        "#等待执行完毕，在你的项目文件夹下会生成一个model.onnx，即为导出的模型\n",
        "!python onnx_export.py"
      ],
      "metadata": {
        "id": "j_yJTaTZVJ53"
      },
      "execution_count": null,
      "outputs": []
    },
    {
      "cell_type": "markdown",
      "source": [
        "# 附录"
      ],
      "metadata": {
        "id": "2QgXTRHoSQqg"
      }
    },
    {
      "cell_type": "code",
      "source": [
        "#@title 附录：flac to wav \n",
        "#方法1 修改输入前后文件名称\n",
        "%cd /content/so-vits-svc/raw\n",
        "import subprocess\n",
        "subprocess.call(['ffmpeg', '-i', 'XJ.ogg',\n",
        "                   'vocals.wav'])\n",
        "%cd /content/so-vits-svc"
      ],
      "metadata": {
        "id": "s-TM85WVHOZr"
      },
      "execution_count": null,
      "outputs": []
    },
    {
      "cell_type": "code",
      "source": [
        "#@title raw目录音频切片器（遇到CUDA错误时需要切片再推理）\n",
        "!pip install pydub\n",
        "import os\n",
        "from pydub import AudioSegment\n",
        "\n",
        "# 定义输入和输出目录\n",
        "input_dir = \"/content/diff-svc/raw\"\n",
        "output_dir = \"/content/diff-svc/raw\"\n",
        "\n",
        "# 遍历输入目录中的所有音频文件\n",
        "for file_name in os.listdir(input_dir):\n",
        "    # 仅处理扩展名为 wav 的文件\n",
        "    if file_name.endswith(\".wav\"):\n",
        "        # 加载音频文件\n",
        "        audio = AudioSegment.from_file(os.path.join(input_dir, file_name), format=\"wav\")\n",
        "        \n",
        "        # 计算每60秒的毫秒数\n",
        "        segment_length_ms = 60 * 1000\n",
        "        \n",
        "        # 切割音频文件\n",
        "        segments = []\n",
        "        for start_time in range(0, len(audio), segment_length_ms):\n",
        "            end_time = start_time + segment_length_ms\n",
        "            segment = audio[start_time:end_time]\n",
        "            segments.append(segment)\n",
        "        \n",
        "        # 保存切割后的音频文件到输出目录\n",
        "        for i, segment in enumerate(segments):\n",
        "            output_file_name = f\"{os.path.splitext(file_name)[0]}_{i}.wav\"\n",
        "            output_path = os.path.join(output_dir, output_file_name)\n",
        "            segment.export(output_path, format=\"wav\")\n"
      ],
      "metadata": {
        "id": "S9HI4JtbCzef"
      },
      "execution_count": null,
      "outputs": []
    }
  ]
}