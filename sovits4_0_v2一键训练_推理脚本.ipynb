{
  "nbformat": 4,
  "nbformat_minor": 0,
  "metadata": {
    "colab": {
      "provenance": [],
      "include_colab_link": true
    },
    "kernelspec": {
      "name": "python3",
      "display_name": "Python 3"
    },
    "language_info": {
      "name": "python"
    },
    "accelerator": "GPU",
    "gpuClass": "standard"
  },
  "cells": [
    {
      "cell_type": "markdown",
      "metadata": {
        "id": "view-in-github",
        "colab_type": "text"
      },
      "source": [
        "<a href=\"https://colab.research.google.com/github/seq2193/so-vits-svc-colab/blob/main/sovits4_0_v2%E4%B8%80%E9%94%AE%E8%AE%AD%E7%BB%83_%E6%8E%A8%E7%90%86%E8%84%9A%E6%9C%AC.ipynb\" target=\"_parent\"><img src=\"https://colab.research.google.com/assets/colab-badge.svg\" alt=\"Open In Colab\"/></a>"
      ]
    },
    {
      "cell_type": "markdown",
      "source": [
        "初始项目：https://github.com/innnky/so-vits-svc\n",
        "\n",
        "修改日期：2023年3月13日\n",
        "\n",
        "原始Colab 链接<a target=\"_blank\" href=\"https://colab.research.google.com/drive/19fxpo-ZoL_ShEUeZIZi6Di-YioWrEyhR\">\n",
        "  <img src=\"https://colab.research.google.com/assets/colab-badge.svg\" alt=\"Open In Colab\"/>\n",
        "</a>"
      ],
      "metadata": {
        "id": "lTrPmOt6ZROg"
      }
    },
    {
      "cell_type": "code",
      "source": [
        "# 查看显卡\n",
        "!nvidia-smi"
      ],
      "metadata": {
        "colab": {
          "base_uri": "https://localhost:8080/"
        },
        "id": "0gQcIZ8RsOkn",
        "outputId": "3f73bbf6-0b5d-4559-9f5b-471b2b9c0c4d"
      },
      "execution_count": null,
      "outputs": [
        {
          "output_type": "stream",
          "name": "stdout",
          "text": [
            "Mon Feb 20 05:45:26 2023       \n",
            "+-----------------------------------------------------------------------------+\n",
            "| NVIDIA-SMI 510.47.03    Driver Version: 510.47.03    CUDA Version: 11.6     |\n",
            "|-------------------------------+----------------------+----------------------+\n",
            "| GPU  Name        Persistence-M| Bus-Id        Disp.A | Volatile Uncorr. ECC |\n",
            "| Fan  Temp  Perf  Pwr:Usage/Cap|         Memory-Usage | GPU-Util  Compute M. |\n",
            "|                               |                      |               MIG M. |\n",
            "|===============================+======================+======================|\n",
            "|   0  Tesla T4            Off  | 00000000:00:04.0 Off |                    0 |\n",
            "| N/A   66C    P0    32W /  70W |      0MiB / 15360MiB |      0%      Default |\n",
            "|                               |                      |                  N/A |\n",
            "+-------------------------------+----------------------+----------------------+\n",
            "                                                                               \n",
            "+-----------------------------------------------------------------------------+\n",
            "| Processes:                                                                  |\n",
            "|  GPU   GI   CI        PID   Type   Process name                  GPU Memory |\n",
            "|        ID   ID                                                   Usage      |\n",
            "|=============================================================================|\n",
            "|  No running processes found                                                 |\n",
            "+-----------------------------------------------------------------------------+\n"
          ]
        }
      ]
    },
    {
      "cell_type": "code",
      "execution_count": null,
      "metadata": {
        "id": "LS0OPRkL4Pme"
      },
      "outputs": [],
      "source": [
        "#@title 克隆的github仓库\n",
        "!git clone https://github.com/svc-develop-team/so-vits-svc -b 4.0-v2\n"
      ]
    },
    {
      "cell_type": "code",
      "source": [
        "#@title 安装依赖\n",
        "%cd /content/so-vits-svc\n",
        "!pip install --upgrade pip setuptools numpy numba\n",
        "#!pip install numpy==1.23.5\n",
        "!pip install pyworld praat-parselmouth fairseq"
      ],
      "metadata": {
        "id": "zXBLkXxL4T1O"
      },
      "execution_count": null,
      "outputs": []
    },
    {
      "cell_type": "code",
      "source": [
        "#@title 下载必要模型文件\n",
        "# 源仓库地址：[contentvec](https://github.com/auspicious3000/contentvec)\n",
        "# 模型原下载链接：[checkpoint_best_legacy_500.pt](https://ibm.box.com/s/z1wgl1stco8ffooyatzdwsqn2psd9lrr)\n",
        "# 由于源网盘无法提供http直链，根据mit协议，对模型进行二次分发，提供下载直链\n",
        "#!wget -P hubert/ https://huggingface.co/innnky/contentvec/resolve/main/checkpoint_best_legacy_500.pt\n",
        "!wget -P hubert/ https://huggingface.co/datasets/seq2193/sovits_pretrained/resolve/main/44k/checkpoint_best_legacy_500.pt"
      ],
      "metadata": {
        "id": "pCqf3W0d6ify"
      },
      "execution_count": null,
      "outputs": []
    },
    {
      "cell_type": "markdown",
      "source": [
        "# 数据集预处理"
      ],
      "metadata": {
        "id": "k1qadJBFehMo"
      }
    },
    {
      "cell_type": "code",
      "source": [
        "#@title 加载Google云端硬盘\n",
        "#@markdown 加载Google云端硬盘\n",
        "from google.colab import drive\n",
        "drive.mount('/content/drive')"
      ],
      "metadata": {
        "colab": {
          "base_uri": "https://localhost:8080/"
        },
        "id": "wmUkpUmfn_Hs",
        "outputId": "d1bc19e9-f296-4be8-b988-313692f99f89"
      },
      "execution_count": null,
      "outputs": [
        {
          "output_type": "stream",
          "name": "stdout",
          "text": [
            "Mounted at /content/drive\n"
          ]
        }
      ]
    },
    {
      "cell_type": "markdown",
      "source": [
        "该处理脚本可以一次性预处理多个说话人，并且生成多说话人filelists以及对应的配置文件\n",
        "\n",
        "只需要将你的数据集按照以下文件结构放到dataset_raw目录下\n",
        "\n",
        "\n",
        "```\n",
        "dataset_raw\n",
        "├───speaker0\n",
        "│   ├───xxx1-xxx1.wav\n",
        "│   ├───...\n",
        "│   └───Lxx-0xx8.wav\n",
        "└───speaker1\n",
        "    ├───xx2-0xxx2.wav\n",
        "    ├───...\n",
        "    └───xxx7-xxx007.wav\n",
        "\n",
        "```\n",
        "\n",
        "\n"
      ],
      "metadata": {
        "id": "kBlju6Q3lSM6"
      }
    },
    {
      "cell_type": "code",
      "source": [
        "#@title 从谷歌云盘加载打包好的数据集进行预处理\n",
        "#@markdown **sovits4.0的数据集不再需要特定的文件结构，将数据集的所有wav文件放在同一个文件夹下压缩为zip后上传至谷歌云盘即可，该处理脚本可以一次性预处理多个数据集，处理多个数据集时请依次解压每一个数据集**\n",
        "\n",
        "#@markdown 数据集名称（**人物的英文/拼音名**，与建数据文件夹时统一；不带zip。）\n",
        "DATASETNAME = \"kiritan\"  #@param {type:\"string\"}\n",
        "#@markdown 压缩包路径（谷歌盘路径，传到dataset的就不改这个，没有dataset文件夹就新建一个）\n",
        "ZIP_PATH = \"/content/drive/MyDrive/dataset/\"  #@param {type:\"string\"}\n",
        "ZIP_NAME = ZIP_PATH + DATASETNAME\n",
        "\n",
        "!unzip -d /content/so-vits-svc/dataset_raw {ZIP_NAME}.zip"
      ],
      "metadata": {
        "id": "U05CXlAipvJR"
      },
      "execution_count": null,
      "outputs": []
    },
    {
      "cell_type": "code",
      "source": [
        "#@title 重采样到44100hz\n",
        "!python resample.py"
      ],
      "metadata": {
        "id": "_ThKTzYs5CfL",
        "colab": {
          "base_uri": "https://localhost:8080/"
        },
        "outputId": "9cee2a4e-e87d-46c0-d5c7-28c1f5a5e40c"
      },
      "execution_count": null,
      "outputs": [
        {
          "output_type": "stream",
          "name": "stdout",
          "text": [
            "./dataset_raw/kiritan\n",
            "51it [00:00, 89.46it/s]\n"
          ]
        }
      ]
    },
    {
      "cell_type": "code",
      "source": [
        "#@title 划分训练集 生成配置文件\n",
        "!python preprocess_flist_config.py"
      ],
      "metadata": {
        "id": "svITReeL5N8K",
        "colab": {
          "base_uri": "https://localhost:8080/"
        },
        "outputId": "14536956-5c40-44eb-fb69-9f9afd2caff8"
      },
      "execution_count": null,
      "outputs": [
        {
          "output_type": "stream",
          "name": "stdout",
          "text": [
            "\r  0% 0/1 [00:00<?, ?it/s]\r100% 1/1 [00:00<00:00, 4359.98it/s]\n",
            "Writing ./filelists/train.txt\n",
            "\r  0% 0/47 [00:00<?, ?it/s]\r100% 47/47 [00:00<00:00, 791695.94it/s]\n",
            "Writing ./filelists/val.txt\n",
            "\r  0% 0/2 [00:00<?, ?it/s]\r100% 2/2 [00:00<00:00, 74898.29it/s]\n",
            "Writing ./filelists/test.txt\n",
            "\r  0% 0/2 [00:00<?, ?it/s]\r100% 2/2 [00:00<00:00, 77672.30it/s]\n",
            "Writing configs/config.json\n"
          ]
        }
      ]
    },
    {
      "cell_type": "code",
      "source": [
        "#@title 生成hubert和f0\n",
        "!python preprocess_hubert_f0.py"
      ],
      "metadata": {
        "id": "xHUXMi836DMe"
      },
      "execution_count": null,
      "outputs": []
    },
    {
      "cell_type": "code",
      "source": [
        "#@title 至此 数据集预处理制作完毕，将数据集和相关文件保存到谷歌云盘的dataset文件夹下，方便下次训练使用\n",
        "#压缩dataset文件夹\n",
        "!zip -r dataset.zip /content/so-vits-svc/dataset\n",
        "#@markdown 自定义备份到谷歌云盘的dataset文件夹下的数据集文件夹名，避免混淆\n",
        "dataset_name_drive = \"kiritan_preprocessed\"  #@param {type:\"string\"}\n",
        "DATASET_PATH_DRIVE = \"/content/drive/MyDrive/dataset/\" + dataset_name_drive\n",
        "!mkdir -p {DATASET_PATH_DRIVE}\n",
        "\n",
        "!cp /content/so-vits-svc/dataset.zip \"{DATASET_PATH_DRIVE}\"\n",
        "!cp configs/config.json \"{DATASET_PATH_DRIVE}\"\n",
        "!cp filelists/train.txt \"{DATASET_PATH_DRIVE}\"\n",
        "!cp filelists/val.txt \"{DATASET_PATH_DRIVE}\""
      ],
      "metadata": {
        "id": "Wo4OTmTAUXgj",
        "cellView": "form"
      },
      "execution_count": null,
      "outputs": []
    },
    {
      "cell_type": "code",
      "source": [
        "#@title 已经预处理过数据集的话，就可以跳过预处理部分 直接从云盘解压处理过的数据 以及配置文件\n",
        "#@markdown 从谷歌云盘加载预处理过的数据集，文件夹名和你备份的时候输入的一样\n",
        "back_up_name = \"kiritan_preprocessed\"  #@param {type:\"string\"}\n",
        "BACK_UP_DATASET_PATH = \"/content/drive/MyDrive/dataset/\" + back_up_name\n",
        "!unzip {BACK_UP_DATASET_PATH}/dataset.zip -d /\n",
        "!cp {BACK_UP_DATASET_PATH}/config.json /content/so-vits-svc/configs/config.json \n",
        "!cp {BACK_UP_DATASET_PATH}/val.txt filelists/val.txt\n",
        "!cp {BACK_UP_DATASET_PATH}/train.txt filelists/train.txt\n",
        "\n",
        "\n",
        "# 拷贝云盘上保存的记录点\n",
        "# !cp /content/drive/MyDrive/G_800.pth logs/48k/\n",
        "# !cp /content/drive/MyDrive/D_800.pth logs/48k/"
      ],
      "metadata": {
        "id": "P2G6v_6zblWK"
      },
      "execution_count": null,
      "outputs": []
    },
    {
      "cell_type": "markdown",
      "source": [
        "# 训练"
      ],
      "metadata": {
        "id": "ENoH-pShel7w"
      }
    },
    {
      "cell_type": "code",
      "source": [
        "#@title  选择是否将训练后的模型保存到谷歌云盘 和 是否使用预模型\n",
        "\n",
        "#@markdown **将训练后的模型文件保存到谷歌云盘，勾选后，恢复训练时也需要勾选并执行**\n",
        "Save_to_drive = True #@param {type:\"boolean\"}\n",
        "if Save_to_drive:\n",
        "  !rm -rf /content/so-vits-svc/logs/44k\n",
        "  !mkdir -p /content/drive/MyDrive/44k\n",
        "  !ln -s /content/drive/MyDrive/44k /content/so-vits-svc/logs/44k\n",
        "\n",
        "#@markdown **首次训练下载预模型 之后继续训练则使用自己保存的记录点，无需再下载**\n",
        "\n",
        "#@markdown **使用预模型，下面打钩自动下载并启用**\n",
        "pre_pth = True #@param {type:\"boolean\"}\n",
        "if pre_pth:\n",
        "  #!wget -P logs/44k/ https://huggingface.co/innnky/sovits_pretrained/resolve/main/sovits4/G_0.pth\n",
        "  #!wget -P logs/44k/ https://huggingface.co/innnky/sovits_pretrained/resolve/main/sovits4/D_0.pth\n",
        "\n",
        "  !wget -P logs/44k/ https://huggingface.co/datasets/seq2193/sovits_pretrained/resolve/main/sovits4.0-v2/G_0.pth\n",
        "  !wget -P logs/44k/ https://huggingface.co/datasets/seq2193/sovits_pretrained/resolve/main/sovits4.0-v2/D_0.pth\n"
      ],
      "metadata": {
        "id": "l8J2ubh9KV5J"
      },
      "execution_count": null,
      "outputs": []
    },
    {
      "cell_type": "code",
      "source": [
        "#@title  开始训练\n",
        "\n",
        "#@markdown **开始训练**\n",
        "\n",
        "#@markdown **启用tensorboard可视化数据**\n",
        "tensorboard_on = True #@param {type:\"boolean\"}\n",
        "if tensorboard_on:\n",
        "  %load_ext tensorboard\n",
        "  %tensorboard --logdir logs/44k\n",
        "\n",
        "!python train.py -c configs/config.json -m 44k\n"
      ],
      "metadata": {
        "id": "-hEFFTCfZf57"
      },
      "execution_count": null,
      "outputs": []
    },
    {
      "cell_type": "code",
      "source": [
        "#@title 聚类音色泄漏控制 (选用)\n",
        "\n",
        "#@markdown # 聚类音色泄漏控制 Train cluster model (Optional)\n",
        "\n",
        "#@markdown #### 詳情參見 [README.md#cluster-based-timbre-leakage-control](https://github.com/svc-develop-team/so-vits-svc#cluster-based-timbre-leakage-control)\n",
        "\n",
        "#@markdown 执行python cluster/train_cluster.py ，模型的输出会在 logs/44k/kmeans_10000.pt\n",
        "\n",
        "!python cluster/train_cluster.py"
      ],
      "metadata": {
        "id": "nVJkDOVFassu"
      },
      "execution_count": null,
      "outputs": []
    },
    {
      "cell_type": "code",
      "source": [
        "#@title 手动将训练后的模型文件备份到谷歌云盘\n",
        "#@markdown 需要自己查看/content/so-vits-svc/logs/44k/文件夹下模型的文件名，手动修改下方命令末尾的文件名\n",
        "!mv /content/so-vits-svc/logs/44k/G_1000.pth /content/drive/MyDrive\n",
        "!mv /content/so-vits-svc/logs/44k/D_1000.pth /content/drive/MyDrive"
      ],
      "metadata": {
        "id": "KiNCWprSPlKH",
        "cellView": "form"
      },
      "execution_count": null,
      "outputs": []
    },
    {
      "cell_type": "markdown",
      "source": [
        "## 加载歌手模型"
      ],
      "metadata": {
        "id": "gYZr24dsv4bz"
      }
    },
    {
      "cell_type": "code",
      "source": [
        "#@title 从huggingface下载模型\n",
        "#@markdown **注意：4.0与4.0-v2模型完全不通用**\n",
        "pth_link=\"\" #@param{type:\"string\"}\n",
        "config_link=\"\" #@param{type:\"string\"}\n",
        "cluster_model_path=\"\" #@param{type:\"string\"}\n",
        "!wget -P /content/so-vits-svc/logs/44k {pth_link}\n",
        "!wget -O /content/so-vits-svc/configs/config.json  {config_link}\n",
        "!wget -P /content/so-vits-svc/logs/44k {cluster_model_path}"
      ],
      "metadata": {
        "id": "aQkDUD2gv7ii"
      },
      "execution_count": null,
      "outputs": []
    },
    {
      "cell_type": "markdown",
      "source": [
        "# 推理"
      ],
      "metadata": {
        "id": "oCnbX-OT897k"
      }
    },
    {
      "cell_type": "code",
      "source": [
        "#@markdown 下载示例音频合成 風になる\n",
        "!gdown --id 1d-npX0KOYW5AE2fh0z1mkX3nFYvyrRii -O /content/so-vits-svc/raw/風になる.wav"
      ],
      "metadata": {
        "id": "DAFy43VPkTyM"
      },
      "execution_count": null,
      "outputs": []
    },
    {
      "cell_type": "code",
      "source": [
        "#@title 上传.wav音频文件 \n",
        "import os\n",
        "from google.colab import files\n",
        "\n",
        "save_dir = \"/content/so-vits-svc/raw\"\n",
        "if not os.path.exists(save_dir):\n",
        "    os.makedirs(save_dir)\n",
        "\n",
        "uploaded = files.upload()\n",
        "file_name = list(uploaded.keys())[0]\n",
        "file_path = os.path.join(save_dir, file_name)\n",
        "with open(file_path, \"wb\") as f:\n",
        "    f.write(uploaded[file_name])\n",
        "print(f\"File saved at: {file_path}\")\n"
      ],
      "metadata": {
        "id": "RLn0mxtCegv1"
      },
      "execution_count": null,
      "outputs": []
    },
    {
      "cell_type": "code",
      "source": [
        "#@title 合成音频（推理）\n",
        "#@markdown 需要将音频上传到so-vits-svc/raw 文件夹下, 然后设置模型路径、配置文件路径、合成的音频名称\n",
        "\n",
        "!python inference_main.py -m \"logs/44k/G_1600.pth\" -c \"configs/config.json\" -n \"君の知らない物語-src.wav\" -s kiritan\n"
      ],
      "metadata": {
        "id": "dYnKuKTIj3z1"
      },
      "execution_count": null,
      "outputs": []
    },
    {
      "cell_type": "code",
      "source": [
        "#@title 合成音频（推理）修改\n",
        "#@markdown 需要将音频上传到so-vits-svc/raw 文件夹下, 然后设置模型路径、配置文件路径、合成的音频名称\n",
        "model_path = \"logs/44k/G_2000.pth\" #@param {type:\"string\"}\n",
        "config_path = \"configs/config.json\" #@param {type:\"string\"}\n",
        "clean_names = \"\\u98A8\\u306B\\u306A\\u308B.wav\" #@param {type:\"string\"}\n",
        "spk_list = \"kumi\" #@param {type:\"string\"}\n",
        "trans = \"0\"  #@param {type:\"string\"}\n",
        "#@markdown **聚类音色泄漏控制**\n",
        "\n",
        "#@markdown 0为完全不使用聚类，1为只使用聚类，通常设置0.5即可\n",
        "cluster_infer_ratio = \"0\"  #@param {type:\"string\"}\n",
        "slice_db = \"-40\"  #@param {type:\"string\"}\n",
        "wav_format = \"flac\"  #@param {type:\"string\"}\n",
        "wav_output = \"/content/so-vits-svc/results/\" + clean_names + \"_\" + trans + \"key\" + \"_\" + spk_list + \".\" + wav_format\n",
        "\n",
        "!python inference_main.py -m {model_path} -c {config_path} -n \"{clean_names}\" -t {trans} -s {spk_list}  -cr {cluster_infer_ratio} -sd {slice_db} -wf {wav_format}\n",
        "\n",
        "#@markdown 如果您不想從此處下載，請取消選中此選項。\n",
        "download_after_inference = True  #@param {type:\"boolean\"}\n",
        "\n",
        "if download_after_inference:\n",
        "  from google.colab import files\n",
        "  files.download(wav_output)"
      ],
      "metadata": {
        "id": "UIsP6nm7fXrs"
      },
      "execution_count": null,
      "outputs": []
    }
  ]
}